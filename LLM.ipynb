{
 "cells": [
  {
   "cell_type": "code",
   "execution_count": 1,
   "metadata": {},
   "outputs": [],
   "source": [
    "# Example: reuse your existing OpenAI setup\n",
    "from openai import OpenAI\n",
    "from flask import Flask, request, jsonify"
   ]
  },
  {
   "cell_type": "code",
   "execution_count": 2,
   "metadata": {},
   "outputs": [],
   "source": [
    "# Point to the local server\n",
    "client = OpenAI(base_url=\"http://localhost:1234/v1\", api_key=\"lm-studio\")"
   ]
  },
  {
   "cell_type": "code",
   "execution_count": 4,
   "metadata": {},
   "outputs": [
    {
     "name": "stdout",
     "output_type": "stream",
     "text": [
      " * Serving Flask app '__main__'\n",
      " * Debug mode: off\n"
     ]
    },
    {
     "name": "stderr",
     "output_type": "stream",
     "text": [
      "WARNING: This is a development server. Do not use it in a production deployment. Use a production WSGI server instead.\n",
      " * Running on http://127.0.0.1:4000\n",
      "Press CTRL+C to quit\n",
      "127.0.0.1 - - [13/Jan/2025 12:17:13] \"POST /ask HTTP/1.1\" 200 -\n",
      "127.0.0.1 - - [13/Jan/2025 12:18:01] \"POST /ask HTTP/1.1\" 200 -\n",
      "127.0.0.1 - - [13/Jan/2025 12:18:52] \"POST /ask HTTP/1.1\" 200 -\n",
      "127.0.0.1 - - [13/Jan/2025 12:21:15] \"POST /ask HTTP/1.1\" 200 -\n",
      "127.0.0.1 - - [13/Jan/2025 12:22:55] \"POST /ask HTTP/1.1\" 200 -\n",
      "127.0.0.1 - - [13/Jan/2025 12:24:07] \"POST /ask HTTP/1.1\" 200 -\n",
      "127.0.0.1 - - [13/Jan/2025 12:28:18] \"POST /ask HTTP/1.1\" 200 -\n",
      "127.0.0.1 - - [13/Jan/2025 12:29:37] \"POST /ask HTTP/1.1\" 200 -\n",
      "127.0.0.1 - - [13/Jan/2025 12:30:28] \"POST /ask HTTP/1.1\" 200 -\n",
      "127.0.0.1 - - [13/Jan/2025 12:31:33] \"POST /ask HTTP/1.1\" 200 -\n",
      "127.0.0.1 - - [13/Jan/2025 12:32:47] \"POST /ask HTTP/1.1\" 200 -\n",
      "127.0.0.1 - - [13/Jan/2025 12:34:03] \"POST /ask HTTP/1.1\" 200 -\n",
      "127.0.0.1 - - [13/Jan/2025 13:08:08] \"POST /ask HTTP/1.1\" 200 -\n",
      "127.0.0.1 - - [13/Jan/2025 13:09:29] \"POST /ask HTTP/1.1\" 200 -\n"
     ]
    }
   ],
   "source": [
    "app = Flask(__name__)\n",
    "\n",
    "# Hàm giả lập để tạo câu trả lời\n",
    "def generate_answer(context, question):\n",
    "    completion = client.chat.completions.create(\n",
    "        model=\"janhq/Vistral-7b-Chat-GGUF\",\n",
    "        messages=[\n",
    "            {\"role\": \"system\", \"content\": \"Vào vai một người tư vấn sức khỏe y tế, dựa vào ngữ cảnh cung cấp hãy tạo ra câu trả lời cho câu hỏi. Lưu ý câu trả lời chỉ dựa vào ngữ cảnh cung cấp, không sử dụng các nội dung ngoài ngữ cảnh để trả lời và câu trả lời sát câu hỏi nhất có thể.\"},\n",
    "            {\"role\": \"user\", \"content\": f\"\"\"\n",
    "                Ngữ cảnh: {context}\n",
    "                Câu hỏi: {question}\n",
    "                  \"\"\"}\n",
    "        ],\n",
    "        temperature=0.7,\n",
    "    )\n",
    "    return completion.choices[0].message.content\n",
    "\n",
    "@app.route('/')\n",
    "def home():\n",
    "    return \"Vui lòng gửi yêu cầu POST tới /ask với dữ liệu 'context' và 'question'.\"\n",
    "\n",
    "@app.route('/ask', methods=['POST'])\n",
    "def ask_question():\n",
    "    # Nhận dữ liệu từ máy khách (JSON chứa 'context' và 'question')\n",
    "    data = request.get_json()\n",
    "    context = data.get('context')\n",
    "    question = data.get('question')\n",
    "    \n",
    "    if not context or not question:\n",
    "        return jsonify({\"error\": \"Cần cung cấp cả context và question!\"}), 400\n",
    "\n",
    "    # Xử lý và tạo câu trả lời\n",
    "    answer = generate_answer(context, question)\n",
    "    \n",
    "    # Trả lại câu trả lời dưới dạng JSON\n",
    "    return jsonify({\"answer\": answer})\n",
    "\n",
    "if __name__ == \"__main__\":\n",
    "    app.run(port=4000)  # Máy chủ chạy trên cổng 4000\n",
    "    \n"
   ]
  }
 ],
 "metadata": {
  "kernelspec": {
   "display_name": "base",
   "language": "python",
   "name": "python3"
  },
  "language_info": {
   "codemirror_mode": {
    "name": "ipython",
    "version": 3
   },
   "file_extension": ".py",
   "mimetype": "text/x-python",
   "name": "python",
   "nbconvert_exporter": "python",
   "pygments_lexer": "ipython3",
   "version": "3.12.4"
  }
 },
 "nbformat": 4,
 "nbformat_minor": 2
}
