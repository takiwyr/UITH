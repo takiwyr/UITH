{
 "cells": [
  {
   "cell_type": "code",
   "execution_count": 1,
   "metadata": {
    "execution": {
     "iopub.execute_input": "2025-01-14T01:54:22.028492Z",
     "iopub.status.busy": "2025-01-14T01:54:22.028096Z",
     "iopub.status.idle": "2025-01-14T01:54:29.695009Z",
     "shell.execute_reply": "2025-01-14T01:54:29.693942Z",
     "shell.execute_reply.started": "2025-01-14T01:54:22.028455Z"
    },
    "trusted": true
   },
   "outputs": [
    {
     "name": "stdout",
     "output_type": "stream",
     "text": [
      "Collecting sentence_transformers\n",
      "  Downloading sentence_transformers-3.3.1-py3-none-any.whl.metadata (10 kB)\n",
      "Collecting dataset\n",
      "  Downloading dataset-1.6.2-py2.py3-none-any.whl.metadata (1.9 kB)\n",
      "Requirement already satisfied: transformers<5.0.0,>=4.41.0 in /usr/local/lib/python3.10/dist-packages (from sentence_transformers) (4.44.2)\n",
      "Requirement already satisfied: tqdm in /usr/local/lib/python3.10/dist-packages (from sentence_transformers) (4.66.5)\n",
      "Requirement already satisfied: torch>=1.11.0 in /usr/local/lib/python3.10/dist-packages (from sentence_transformers) (2.4.1+cu121)\n",
      "Requirement already satisfied: scikit-learn in /usr/local/lib/python3.10/dist-packages (from sentence_transformers) (1.2.2)\n",
      "Requirement already satisfied: scipy in /usr/local/lib/python3.10/dist-packages (from sentence_transformers) (1.13.1)\n",
      "Requirement already satisfied: huggingface-hub>=0.20.0 in /usr/local/lib/python3.10/dist-packages (from sentence_transformers) (0.24.7)\n",
      "Requirement already satisfied: Pillow in /usr/local/lib/python3.10/dist-packages (from sentence_transformers) (10.4.0)\n",
      "Collecting sqlalchemy<2.0.0,>=1.3.2 (from dataset)\n",
      "  Downloading SQLAlchemy-1.4.54-cp310-cp310-manylinux_2_5_x86_64.manylinux1_x86_64.manylinux_2_17_x86_64.manylinux2014_x86_64.whl.metadata (10 kB)\n",
      "Requirement already satisfied: alembic>=0.6.2 in /usr/local/lib/python3.10/dist-packages (from dataset) (1.14.0)\n",
      "Collecting banal>=1.0.1 (from dataset)\n",
      "  Downloading banal-1.0.6-py2.py3-none-any.whl.metadata (1.4 kB)\n",
      "Requirement already satisfied: Mako in /usr/local/lib/python3.10/dist-packages (from alembic>=0.6.2->dataset) (1.3.8)\n",
      "Requirement already satisfied: typing-extensions>=4 in /usr/local/lib/python3.10/dist-packages (from alembic>=0.6.2->dataset) (4.12.2)\n",
      "Requirement already satisfied: filelock in /usr/local/lib/python3.10/dist-packages (from huggingface-hub>=0.20.0->sentence_transformers) (3.16.1)\n",
      "Requirement already satisfied: fsspec>=2023.5.0 in /usr/local/lib/python3.10/dist-packages (from huggingface-hub>=0.20.0->sentence_transformers) (2024.6.1)\n",
      "Requirement already satisfied: packaging>=20.9 in /usr/local/lib/python3.10/dist-packages (from huggingface-hub>=0.20.0->sentence_transformers) (24.1)\n",
      "Requirement already satisfied: pyyaml>=5.1 in /usr/local/lib/python3.10/dist-packages (from huggingface-hub>=0.20.0->sentence_transformers) (6.0.2)\n",
      "Requirement already satisfied: requests in /usr/local/lib/python3.10/dist-packages (from huggingface-hub>=0.20.0->sentence_transformers) (2.32.3)\n",
      "Requirement already satisfied: greenlet!=0.4.17 in /usr/local/lib/python3.10/dist-packages (from sqlalchemy<2.0.0,>=1.3.2->dataset) (3.1.0)\n",
      "Requirement already satisfied: sympy in /usr/local/lib/python3.10/dist-packages (from torch>=1.11.0->sentence_transformers) (1.13.3)\n",
      "Requirement already satisfied: networkx in /usr/local/lib/python3.10/dist-packages (from torch>=1.11.0->sentence_transformers) (3.3)\n",
      "Requirement already satisfied: jinja2 in /usr/local/lib/python3.10/dist-packages (from torch>=1.11.0->sentence_transformers) (3.1.4)\n",
      "Requirement already satisfied: numpy>=1.17 in /usr/local/lib/python3.10/dist-packages (from transformers<5.0.0,>=4.41.0->sentence_transformers) (1.26.4)\n",
      "Requirement already satisfied: regex!=2019.12.17 in /usr/local/lib/python3.10/dist-packages (from transformers<5.0.0,>=4.41.0->sentence_transformers) (2024.9.11)\n",
      "Requirement already satisfied: safetensors>=0.4.1 in /usr/local/lib/python3.10/dist-packages (from transformers<5.0.0,>=4.41.0->sentence_transformers) (0.4.5)\n",
      "Requirement already satisfied: tokenizers<0.20,>=0.19 in /usr/local/lib/python3.10/dist-packages (from transformers<5.0.0,>=4.41.0->sentence_transformers) (0.19.1)\n",
      "Requirement already satisfied: joblib>=1.1.1 in /usr/local/lib/python3.10/dist-packages (from scikit-learn->sentence_transformers) (1.4.2)\n",
      "Requirement already satisfied: threadpoolctl>=2.0.0 in /usr/local/lib/python3.10/dist-packages (from scikit-learn->sentence_transformers) (3.5.0)\n",
      "Requirement already satisfied: MarkupSafe>=2.0 in /usr/local/lib/python3.10/dist-packages (from jinja2->torch>=1.11.0->sentence_transformers) (2.1.5)\n",
      "Requirement already satisfied: charset-normalizer<4,>=2 in /usr/local/lib/python3.10/dist-packages (from requests->huggingface-hub>=0.20.0->sentence_transformers) (3.3.2)\n",
      "Requirement already satisfied: idna<4,>=2.5 in /usr/local/lib/python3.10/dist-packages (from requests->huggingface-hub>=0.20.0->sentence_transformers) (3.10)\n",
      "Requirement already satisfied: urllib3<3,>=1.21.1 in /usr/local/lib/python3.10/dist-packages (from requests->huggingface-hub>=0.20.0->sentence_transformers) (2.2.3)\n",
      "Requirement already satisfied: certifi>=2017.4.17 in /usr/local/lib/python3.10/dist-packages (from requests->huggingface-hub>=0.20.0->sentence_transformers) (2024.8.30)\n",
      "Requirement already satisfied: mpmath<1.4,>=1.1.0 in /usr/local/lib/python3.10/dist-packages (from sympy->torch>=1.11.0->sentence_transformers) (1.3.0)\n",
      "Downloading sentence_transformers-3.3.1-py3-none-any.whl (268 kB)\n",
      "\u001b[2K   \u001b[90m━━━━━━━━━━━━━━━━━━━━━━━━━━━━━━━━━━━━━━━━\u001b[0m \u001b[32m268.8/268.8 kB\u001b[0m \u001b[31m7.2 MB/s\u001b[0m eta \u001b[36m0:00:00\u001b[0m:00:01\u001b[0m\n",
      "\u001b[?25hDownloading dataset-1.6.2-py2.py3-none-any.whl (18 kB)\n",
      "Downloading banal-1.0.6-py2.py3-none-any.whl (6.1 kB)\n",
      "Downloading SQLAlchemy-1.4.54-cp310-cp310-manylinux_2_5_x86_64.manylinux1_x86_64.manylinux_2_17_x86_64.manylinux2014_x86_64.whl (1.6 MB)\n",
      "\u001b[2K   \u001b[90m━━━━━━━━━━━━━━━━━━━━━━━━━━━━━━━━━━━━━━━━\u001b[0m \u001b[32m1.6/1.6 MB\u001b[0m \u001b[31m43.6 MB/s\u001b[0m eta \u001b[36m0:00:00\u001b[0m00:01\u001b[0m\n",
      "\u001b[?25hInstalling collected packages: banal, sqlalchemy, dataset, sentence_transformers\n",
      "  Attempting uninstall: sqlalchemy\n",
      "    Found existing installation: SQLAlchemy 2.0.35\n",
      "    Uninstalling SQLAlchemy-2.0.35:\n",
      "      Successfully uninstalled SQLAlchemy-2.0.35\n",
      "\u001b[31mERROR: pip's dependency resolver does not currently take into account all the packages that are installed. This behaviour is the source of the following dependency conflicts.\n",
      "ipython-sql 0.5.0 requires sqlalchemy>=2.0, but you have sqlalchemy 1.4.54 which is incompatible.\u001b[0m\u001b[31m\n",
      "\u001b[0mSuccessfully installed banal-1.0.6 dataset-1.6.2 sentence_transformers-3.3.1 sqlalchemy-1.4.54\n"
     ]
    }
   ],
   "source": [
    "!pip install sentence_transformers dataset"
   ]
  },
  {
   "cell_type": "code",
   "execution_count": 2,
   "metadata": {
    "_cell_guid": "b1076dfc-b9ad-4769-8c92-a6c4dae69d19",
    "_uuid": "8f2839f25d086af736a60e9eeb907d3b93b6e0e5",
    "execution": {
     "iopub.execute_input": "2025-01-14T01:54:35.778740Z",
     "iopub.status.busy": "2025-01-14T01:54:35.778367Z",
     "iopub.status.idle": "2025-01-14T01:54:50.254356Z",
     "shell.execute_reply": "2025-01-14T01:54:50.253681Z",
     "shell.execute_reply.started": "2025-01-14T01:54:35.778708Z"
    },
    "trusted": true
   },
   "outputs": [],
   "source": [
    "from transformers import AutoTokenizer, AutoModel\n",
    "from sentence_transformers import SentenceTransformer, CrossEncoder, util,SentenceTransformer, SentenceTransformerTrainer, losses, SentenceTransformerTrainingArguments\n",
    "import pandas as pd\n",
    "import numpy as np\n",
    "import torch\n",
    "from datasets import Dataset"
   ]
  },
  {
   "cell_type": "markdown",
   "metadata": {},
   "source": [
    "# Bước 1: Đọc dataset NLI và QA sau đó tách content ra làm file Corpus"
   ]
  },
  {
   "cell_type": "code",
   "execution_count": 4,
   "metadata": {
    "execution": {
     "iopub.execute_input": "2025-01-13T19:12:53.507387Z",
     "iopub.status.busy": "2025-01-13T19:12:53.507051Z",
     "iopub.status.idle": "2025-01-13T19:13:09.020765Z",
     "shell.execute_reply": "2025-01-13T19:13:09.019845Z",
     "shell.execute_reply.started": "2025-01-13T19:12:53.507358Z"
    },
    "trusted": true
   },
   "outputs": [],
   "source": [
    "Corpus = pd.read_csv(\"/kaggle/input/healthcare-chatbot/corpus_healthcare.csv\")\n",
    "train = pd.read_csv(\"/kaggle/input/healthcare-chatbot/train_healthcare.csv\")\n",
    "test = pd.read_csv(\"/kaggle/input/healthcare-chatbot/test_healthcare.csv\")\n",
    "val = pd.read_csv(\"/kaggle/input/healthcare-chatbot/val_healthcare.csv\")"
   ]
  },
  {
   "cell_type": "markdown",
   "metadata": {},
   "source": [
    "***corpus dài nhất có: 4437 token***"
   ]
  },
  {
   "cell_type": "markdown",
   "metadata": {},
   "source": [
    "# BI-ENCODER FINETUNE"
   ]
  },
  {
   "cell_type": "code",
   "execution_count": 4,
   "metadata": {
    "execution": {
     "iopub.execute_input": "2025-01-14T01:54:57.775679Z",
     "iopub.status.busy": "2025-01-14T01:54:57.775277Z",
     "iopub.status.idle": "2025-01-14T01:54:57.779559Z",
     "shell.execute_reply": "2025-01-14T01:54:57.778496Z",
     "shell.execute_reply.started": "2025-01-14T01:54:57.775648Z"
    },
    "trusted": true
   },
   "outputs": [],
   "source": [
    "from sentence_transformers import SentenceTransformer, CrossEncoder\n",
    "import pandas as pd\n",
    "from sentence_transformers import util"
   ]
  },
  {
   "cell_type": "code",
   "execution_count": 5,
   "metadata": {
    "execution": {
     "iopub.execute_input": "2025-01-14T01:55:00.294734Z",
     "iopub.status.busy": "2025-01-14T01:55:00.294373Z",
     "iopub.status.idle": "2025-01-14T01:55:16.739939Z",
     "shell.execute_reply": "2025-01-14T01:55:16.739002Z",
     "shell.execute_reply.started": "2025-01-14T01:55:00.294706Z"
    },
    "trusted": true
   },
   "outputs": [
    {
     "name": "stdout",
     "output_type": "stream",
     "text": [
      "Using device: cuda\n",
      "Model device: cuda:0\n"
     ]
    }
   ],
   "source": [
    "from sentence_transformers import SentenceTransformer\n",
    "import torch\n",
    "\n",
    "# Kiểm tra xem GPU có sẵn không\n",
    "device = \"cuda\" if torch.cuda.is_available() else \"cpu\"\n",
    "print(f\"Using device: {device}\")\n",
    "\n",
    "# Tải mô hình và chỉ định thiết bị\n",
    "model_path = \"/kaggle/input/halong_embedding_4jan/other/default/1/checkpoint-3500\"\n",
    "model = SentenceTransformer(model_path, device=device)\n",
    "\n",
    "# Kiểm tra xem model đã được tải trên GPU hay không\n",
    "print(f\"Model device: {model.device}\")\n"
   ]
  },
  {
   "cell_type": "code",
   "execution_count": 6,
   "metadata": {
    "execution": {
     "iopub.execute_input": "2025-01-14T01:55:20.175483Z",
     "iopub.status.busy": "2025-01-14T01:55:20.175159Z",
     "iopub.status.idle": "2025-01-14T01:55:21.913748Z",
     "shell.execute_reply": "2025-01-14T01:55:21.912998Z",
     "shell.execute_reply.started": "2025-01-14T01:55:20.175458Z"
    },
    "trusted": true
   },
   "outputs": [
    {
     "name": "stdout",
     "output_type": "stream",
     "text": [
      "Using device: cuda\n"
     ]
    }
   ],
   "source": [
    "from sentence_transformers import CrossEncoder\n",
    "import torch\n",
    "\n",
    "# Kiểm tra xem GPU có sẵn không\n",
    "device = \"cuda\" if torch.cuda.is_available() else \"cpu\"\n",
    "print(f\"Using device: {device}\")\n",
    "\n",
    "# Tải mô hình và chỉ định thiết bị\n",
    "model_name = \"/kaggle/input/bge_finetune_6file/transformers/default/1/bge_reranker_finetune_24Dec_latest5\"\n",
    "cross_encoder = CrossEncoder(model_name, num_labels=1, max_length=1024, device=device)\n"
   ]
  },
  {
   "cell_type": "code",
   "execution_count": 7,
   "metadata": {
    "execution": {
     "iopub.execute_input": "2025-01-14T01:55:27.738702Z",
     "iopub.status.busy": "2025-01-14T01:55:27.738322Z",
     "iopub.status.idle": "2025-01-14T01:55:27.743231Z",
     "shell.execute_reply": "2025-01-14T01:55:27.742281Z",
     "shell.execute_reply.started": "2025-01-14T01:55:27.738676Z"
    },
    "trusted": true
   },
   "outputs": [],
   "source": [
    "import logging\n",
    "logging.disable(logging.WARNING)"
   ]
  },
  {
   "cell_type": "code",
   "execution_count": 8,
   "metadata": {
    "execution": {
     "iopub.execute_input": "2025-01-14T01:55:29.188878Z",
     "iopub.status.busy": "2025-01-14T01:55:29.188505Z",
     "iopub.status.idle": "2025-01-14T01:55:29.197524Z",
     "shell.execute_reply": "2025-01-14T01:55:29.196166Z",
     "shell.execute_reply.started": "2025-01-14T01:55:29.188836Z"
    },
    "trusted": true
   },
   "outputs": [
    {
     "name": "stdout",
     "output_type": "stream",
     "text": [
      "XLMRobertaForSequenceClassification(\n",
      "  (roberta): XLMRobertaModel(\n",
      "    (embeddings): XLMRobertaEmbeddings(\n",
      "      (word_embeddings): Embedding(250002, 1024, padding_idx=1)\n",
      "      (position_embeddings): Embedding(8194, 1024, padding_idx=1)\n",
      "      (token_type_embeddings): Embedding(1, 1024)\n",
      "      (LayerNorm): LayerNorm((1024,), eps=1e-05, elementwise_affine=True)\n",
      "      (dropout): Dropout(p=0.1, inplace=False)\n",
      "    )\n",
      "    (encoder): XLMRobertaEncoder(\n",
      "      (layer): ModuleList(\n",
      "        (0-23): 24 x XLMRobertaLayer(\n",
      "          (attention): XLMRobertaAttention(\n",
      "            (self): XLMRobertaSelfAttention(\n",
      "              (query): Linear(in_features=1024, out_features=1024, bias=True)\n",
      "              (key): Linear(in_features=1024, out_features=1024, bias=True)\n",
      "              (value): Linear(in_features=1024, out_features=1024, bias=True)\n",
      "              (dropout): Dropout(p=0.1, inplace=False)\n",
      "            )\n",
      "            (output): XLMRobertaSelfOutput(\n",
      "              (dense): Linear(in_features=1024, out_features=1024, bias=True)\n",
      "              (LayerNorm): LayerNorm((1024,), eps=1e-05, elementwise_affine=True)\n",
      "              (dropout): Dropout(p=0.1, inplace=False)\n",
      "            )\n",
      "          )\n",
      "          (intermediate): XLMRobertaIntermediate(\n",
      "            (dense): Linear(in_features=1024, out_features=4096, bias=True)\n",
      "            (intermediate_act_fn): GELUActivation()\n",
      "          )\n",
      "          (output): XLMRobertaOutput(\n",
      "            (dense): Linear(in_features=4096, out_features=1024, bias=True)\n",
      "            (LayerNorm): LayerNorm((1024,), eps=1e-05, elementwise_affine=True)\n",
      "            (dropout): Dropout(p=0.1, inplace=False)\n",
      "          )\n",
      "        )\n",
      "      )\n",
      "    )\n",
      "  )\n",
      "  (classifier): XLMRobertaClassificationHead(\n",
      "    (dense): Linear(in_features=1024, out_features=1024, bias=True)\n",
      "    (dropout): Dropout(p=0.1, inplace=False)\n",
      "    (out_proj): Linear(in_features=1024, out_features=1, bias=True)\n",
      "  )\n",
      ")\n"
     ]
    }
   ],
   "source": [
    "\n",
    "model_cross = cross_encoder.model\n",
    "\n",
    "# Print the model architecture\n",
    "print(model_cross)"
   ]
  },
  {
   "cell_type": "code",
   "execution_count": 9,
   "metadata": {
    "execution": {
     "iopub.execute_input": "2025-01-14T01:55:32.858220Z",
     "iopub.status.busy": "2025-01-14T01:55:32.858013Z",
     "iopub.status.idle": "2025-01-14T01:55:42.222800Z",
     "shell.execute_reply": "2025-01-14T01:55:42.222125Z",
     "shell.execute_reply.started": "2025-01-14T01:55:32.858200Z"
    },
    "trusted": true
   },
   "outputs": [],
   "source": [
    "corpus = pd.read_csv(\"/kaggle/input/healthcare-chatbot/corpus_healthcare.csv\")"
   ]
  },
  {
   "cell_type": "code",
   "execution_count": 10,
   "metadata": {
    "execution": {
     "iopub.execute_input": "2025-01-14T01:55:42.224087Z",
     "iopub.status.busy": "2025-01-14T01:55:42.223937Z",
     "iopub.status.idle": "2025-01-14T01:55:47.220712Z",
     "shell.execute_reply": "2025-01-14T01:55:47.219846Z",
     "shell.execute_reply.started": "2025-01-14T01:55:42.224068Z"
    },
    "trusted": true
   },
   "outputs": [
    {
     "name": "stderr",
     "output_type": "stream",
     "text": [
      "<ipython-input-10-01ffa0a314a2>:7: FutureWarning: You are using `torch.load` with `weights_only=False` (the current default value), which uses the default pickle module implicitly. It is possible to construct malicious pickle data which will execute arbitrary code during unpickling (See https://github.com/pytorch/pytorch/blob/main/SECURITY.md#untrusted-models for more details). In a future release, the default value for `weights_only` will be flipped to `True`. This limits the functions that could be executed during unpickling. Arbitrary objects will no longer be allowed to be loaded via this mode unless they are explicitly allowlisted by the user via `torch.serialization.add_safe_globals`. We recommend you start setting `weights_only=True` for any use case where you don't have full control of the loaded file. Please open an issue on GitHub for any issues related to this experimental feature.\n",
      "  data = torch.load(file_path)\n"
     ]
    },
    {
     "name": "stdout",
     "output_type": "stream",
     "text": [
      "Tổng số embeddings: 201278\n",
      "Embedding mẫu: tensor([ 2.4059e-02, -3.3965e-02,  2.7742e-02, -1.0075e-02,  4.8988e-02,\n",
      "        -1.9550e-02,  2.8276e-02,  6.6316e-03, -7.6046e-02, -3.5337e-02,\n",
      "        -2.5771e-02,  2.9420e-03, -3.3403e-02,  3.5558e-02,  2.1970e-02,\n",
      "         6.5235e-02,  3.8740e-02, -2.9432e-02,  1.5462e-02, -4.5378e-02,\n",
      "        -1.7632e-02, -4.9764e-02,  7.2799e-03, -1.3141e-02,  4.5410e-02,\n",
      "         6.4563e-03, -1.1320e-02, -6.8925e-02,  3.3045e-02,  3.9826e-02,\n",
      "        -4.1069e-02,  5.9556e-02, -4.6521e-02,  1.0189e-02,  3.5060e-02,\n",
      "        -9.0544e-04,  1.6474e-02,  5.6453e-02, -3.8884e-02,  1.8709e-02,\n",
      "         1.6357e-02, -4.0798e-04,  3.1813e-03,  5.2386e-03,  2.1488e-02,\n",
      "         2.4168e-02,  3.5207e-03,  6.2477e-02, -4.4913e-02,  6.8346e-03,\n",
      "         7.1183e-02, -4.1380e-02, -2.4523e-02, -1.8445e-02, -3.5180e-02,\n",
      "        -2.2221e-02,  4.8468e-02,  1.6551e-03,  3.7592e-02, -1.0580e-03,\n",
      "        -7.6505e-02,  2.0165e-02,  1.5811e-02, -1.8044e-02,  3.5696e-02,\n",
      "         2.5866e-02, -3.5296e-02, -6.0745e-02,  2.6852e-02,  2.2641e-02,\n",
      "        -6.9123e-03,  2.3974e-02, -2.8769e-02, -2.8555e-03, -1.2452e-02,\n",
      "         4.0721e-02,  1.6846e-02,  6.6493e-03, -5.7959e-02, -8.1682e-03,\n",
      "        -4.3219e-02, -1.4539e-02, -1.1943e-02,  7.1545e-02, -2.8127e-07,\n",
      "        -1.3317e-02, -1.5272e-02,  3.5358e-02, -1.1865e-02, -3.2631e-02,\n",
      "         6.4374e-03, -3.4729e-02,  2.3478e-02,  4.9086e-02, -1.3624e-02,\n",
      "        -5.1079e-02,  5.3677e-03, -3.5316e-02,  1.4896e-02,  3.7971e-02,\n",
      "         1.1257e-02,  2.3999e-04,  4.3988e-02, -7.9529e-02,  4.6767e-02,\n",
      "         4.5247e-03,  3.6682e-03, -5.6035e-04,  3.5647e-03,  4.4422e-02,\n",
      "        -1.8991e-02,  2.0673e-02,  1.1219e-02, -1.3208e-02,  3.9198e-02,\n",
      "         7.2597e-03,  7.4417e-02, -6.2402e-02,  8.1465e-03, -8.4038e-03,\n",
      "        -1.3039e-02,  5.7932e-03, -6.3941e-02,  4.5182e-03,  4.2233e-03,\n",
      "        -3.9931e-02, -2.8770e-02, -6.6802e-03,  3.2554e-02,  3.3766e-02,\n",
      "         7.8814e-02, -2.5786e-02, -1.4622e-02, -6.0537e-03, -4.6274e-02,\n",
      "        -1.3331e-02, -4.7901e-02,  4.1354e-02, -3.9761e-02,  1.7439e-02,\n",
      "        -3.4391e-03, -8.2077e-03, -4.4744e-02, -1.5636e-02, -6.9279e-03,\n",
      "        -9.0784e-03, -3.9576e-02,  1.7125e-02,  5.3428e-02,  2.4829e-02,\n",
      "        -1.4187e-03,  5.9862e-03,  2.5129e-02, -5.4371e-02,  2.0019e-02,\n",
      "        -1.1356e-02, -3.8008e-02, -2.0950e-02,  2.5377e-02,  3.1227e-02,\n",
      "        -3.3693e-02,  4.6230e-02, -1.8278e-02,  1.2947e-03,  2.4075e-02,\n",
      "        -5.7440e-02, -1.0504e-02,  1.5433e-02,  2.9203e-02,  8.8132e-03,\n",
      "         1.1481e-01,  2.3647e-02,  3.5831e-02,  2.9198e-03,  4.9956e-02,\n",
      "        -3.1491e-02, -2.3033e-02, -6.2112e-02, -5.3114e-03,  4.1124e-03,\n",
      "         1.7630e-02, -1.8766e-02,  5.5462e-02, -9.8888e-03, -2.2706e-02,\n",
      "         6.4787e-02, -4.4799e-04, -4.8775e-03, -2.1884e-02, -2.1811e-02,\n",
      "         7.4664e-02,  2.7595e-02,  3.3979e-02, -2.8670e-02, -1.3314e-02,\n",
      "        -7.8865e-03,  1.4405e-02, -3.6923e-02,  1.7461e-02, -3.3584e-02,\n",
      "        -1.0632e-02,  6.1364e-02, -3.4633e-02,  3.7900e-02,  3.9556e-02,\n",
      "        -1.0368e-03, -8.7173e-02, -2.9801e-02,  6.5475e-03, -5.4012e-03,\n",
      "        -6.6724e-03, -1.9535e-02, -2.0557e-02,  2.6616e-02, -3.2960e-02,\n",
      "        -9.8981e-03,  3.4997e-02, -2.4262e-02,  5.6989e-02, -2.7461e-03,\n",
      "         3.5114e-02, -1.2255e-02,  1.6489e-02, -1.7967e-02,  2.2610e-02,\n",
      "         1.4397e-02, -3.2192e-02,  5.7674e-02,  2.7409e-02, -2.1484e-02,\n",
      "        -1.8804e-02,  2.1353e-02,  2.4746e-02, -3.5801e-02, -2.5149e-02,\n",
      "        -2.7982e-02,  3.2851e-02, -4.1291e-02,  2.9179e-02, -4.3097e-02,\n",
      "        -1.5197e-02,  2.2526e-02, -2.2901e-03, -1.0235e-02,  3.9980e-02,\n",
      "        -3.5179e-03,  4.1038e-02,  5.7989e-02,  7.7357e-02,  9.1730e-02,\n",
      "        -3.9480e-02, -6.1419e-02,  5.6994e-02,  7.8949e-02,  6.9876e-04,\n",
      "        -2.4544e-02, -1.2270e-02,  5.9789e-03, -2.4678e-02, -1.3082e-02,\n",
      "        -6.4134e-02, -3.9895e-02, -1.1479e-02, -4.4548e-02, -3.8859e-02,\n",
      "        -3.4109e-02,  6.2473e-02,  1.9445e-02,  4.8033e-02,  3.8482e-02,\n",
      "        -6.0937e-02,  1.1985e-02,  5.5503e-02, -3.0002e-02, -2.6968e-02,\n",
      "         1.8439e-02, -2.3278e-02,  6.6806e-02,  5.8233e-02, -7.4002e-04,\n",
      "        -4.3635e-02, -4.5860e-02, -2.1453e-02, -3.5765e-02,  8.8075e-03,\n",
      "         5.3226e-02,  4.8517e-02,  5.8025e-04, -7.4628e-02,  2.6151e-03,\n",
      "        -1.1204e-02,  3.8504e-02, -5.2805e-03,  3.9137e-02, -2.5365e-02,\n",
      "         4.9498e-02,  3.1423e-02,  3.8458e-03, -2.1718e-02, -2.1361e-02,\n",
      "         2.5119e-03,  7.4608e-02,  4.4614e-03,  8.8275e-04,  5.0310e-02,\n",
      "        -3.7072e-02,  2.8007e-03, -2.5415e-02, -7.1036e-02, -2.2816e-02,\n",
      "        -4.7262e-02,  3.1421e-02, -1.3610e-02, -4.7913e-02,  6.3141e-02,\n",
      "         2.0874e-02, -1.0834e-01,  1.8909e-03,  6.1225e-02,  5.0491e-02,\n",
      "        -1.4733e-02,  3.1535e-02,  8.0464e-03, -1.8450e-02,  8.5646e-05,\n",
      "         2.6875e-02,  7.0965e-02, -1.7654e-02, -4.5255e-02, -1.2629e-03,\n",
      "         2.9562e-02, -2.0422e-02, -2.3187e-02,  3.0494e-02,  1.6927e-02,\n",
      "        -1.3241e-02,  1.2386e-02,  3.0686e-02, -3.6392e-02,  3.2671e-02,\n",
      "        -8.4191e-03, -3.8789e-02,  7.0490e-02,  3.3203e-02, -4.1450e-02,\n",
      "         3.5358e-02, -1.1785e-02, -5.3341e-04, -6.9502e-03,  1.7605e-02,\n",
      "        -3.0509e-02, -5.3329e-02, -2.4501e-02,  3.9574e-02,  5.1606e-03,\n",
      "         3.0889e-02, -1.3021e-02, -3.9268e-02, -2.9230e-02,  4.5270e-03,\n",
      "        -1.7042e-02,  4.2150e-02, -2.6333e-02, -2.4753e-02,  4.6327e-02,\n",
      "         5.6480e-03,  5.3624e-02, -9.6174e-03, -4.7516e-02, -7.9185e-04,\n",
      "        -1.7124e-02, -3.2295e-02,  2.8220e-02, -1.1602e-02, -2.7123e-02,\n",
      "         2.6491e-02,  1.3110e-02, -6.6848e-03,  2.0465e-02,  3.2286e-02,\n",
      "        -1.4458e-02,  4.1859e-03, -5.8181e-02,  7.2789e-03, -1.3365e-02,\n",
      "         4.9815e-02, -2.2747e-02,  9.4922e-03,  6.3908e-02, -6.2112e-03,\n",
      "         7.2490e-02,  8.6131e-02, -3.7743e-03, -3.7325e-02, -2.3757e-03,\n",
      "         2.6261e-02,  4.4865e-03, -1.7876e-02, -4.5882e-02,  3.9894e-02,\n",
      "        -6.6676e-02, -6.6491e-02,  7.8160e-03, -2.4329e-02,  6.9656e-02,\n",
      "         2.4666e-02, -2.6663e-02,  2.0374e-02, -3.9917e-02,  1.8769e-02,\n",
      "        -1.0194e-02, -4.3044e-02,  5.9719e-02, -5.2290e-02, -4.0543e-02,\n",
      "         1.9341e-02,  2.8554e-03,  6.5458e-03, -9.0315e-02,  1.8739e-02,\n",
      "         2.0726e-02,  2.4187e-02, -1.2880e-02, -4.0045e-03, -4.7575e-02,\n",
      "         3.9391e-03, -2.1876e-02,  2.1864e-02,  6.1211e-03, -4.2172e-02,\n",
      "         3.5360e-02, -7.3289e-02,  3.4566e-02, -4.2217e-04, -6.8396e-02,\n",
      "         2.0281e-02, -6.8580e-02,  2.0209e-02,  4.7860e-03, -4.9552e-02,\n",
      "         1.4285e-02,  5.8257e-02,  7.9863e-02, -3.7795e-02,  3.1750e-02,\n",
      "        -6.2171e-02, -2.1771e-02, -6.1555e-02,  3.3637e-02, -1.5762e-02,\n",
      "        -2.8643e-02, -1.0912e-02,  5.9314e-02, -4.1963e-03, -1.4664e-02,\n",
      "        -4.9062e-02,  2.1463e-02,  1.4402e-02, -2.2271e-02, -1.3468e-02,\n",
      "         6.4444e-02, -1.8013e-02, -3.4221e-02, -1.9271e-02, -4.0452e-02,\n",
      "        -2.4896e-02, -2.1598e-02,  1.0770e-02,  7.5467e-02, -2.2147e-02,\n",
      "        -2.8311e-02,  1.1068e-02, -6.6413e-03, -5.8525e-02, -1.3289e-02,\n",
      "        -2.3642e-03,  3.9665e-02, -4.0203e-02, -6.0659e-03, -3.2148e-02,\n",
      "        -5.5366e-02, -5.3701e-02,  2.0151e-02, -1.5394e-02, -1.5471e-03,\n",
      "        -1.9368e-03, -1.5635e-02,  3.4746e-02,  5.8698e-03, -2.3302e-02,\n",
      "        -7.1294e-03,  5.6211e-02, -1.1851e-02, -1.2827e-02, -2.4225e-03,\n",
      "        -3.8556e-03,  5.5684e-02, -2.3319e-02, -8.3555e-04,  9.4014e-02,\n",
      "         3.4620e-03, -3.5240e-02,  3.9648e-02, -4.3171e-04,  6.7995e-03,\n",
      "         2.9115e-02,  3.3952e-02,  6.7641e-02, -4.3100e-02, -3.4232e-02,\n",
      "        -1.2128e-02,  3.0190e-02,  1.0818e-02, -8.4519e-03, -3.4731e-03,\n",
      "         3.4418e-03, -2.4810e-02,  6.0652e-02, -2.0685e-02,  1.2689e-02,\n",
      "        -1.8979e-02, -6.2693e-02, -3.2045e-02,  2.2826e-02, -1.1369e-02,\n",
      "        -1.5014e-02, -6.3148e-02,  3.9678e-03, -5.3537e-02,  6.7086e-02,\n",
      "        -1.7183e-02, -5.9601e-03,  1.2418e-02, -4.4656e-02, -2.3720e-02,\n",
      "        -3.6326e-02,  5.4050e-02,  7.9749e-02,  6.9565e-03,  3.2636e-02,\n",
      "         5.2645e-02,  1.9164e-02,  6.4016e-02,  8.6404e-03,  1.5686e-02,\n",
      "        -1.4304e-02,  8.6608e-02, -2.0352e-02,  2.9414e-02,  1.1897e-02,\n",
      "         4.4854e-03,  6.5613e-03, -5.0672e-02, -4.8135e-02, -1.9980e-02,\n",
      "        -2.6516e-02, -2.2686e-02,  3.1132e-02, -2.2900e-02,  1.2423e-03,\n",
      "         4.0508e-02,  2.7795e-02,  4.8624e-02,  2.2573e-02,  1.6423e-02,\n",
      "        -6.4880e-03, -6.8463e-03,  6.6122e-02, -5.7403e-02, -6.6623e-03,\n",
      "         4.1057e-02,  3.0229e-02,  3.8762e-03,  4.7868e-02,  4.6292e-03,\n",
      "         4.4921e-03,  1.2285e-03,  3.1998e-02,  1.7849e-02, -1.7880e-02,\n",
      "         5.1928e-02, -3.6074e-02,  2.3998e-02,  1.5314e-02,  2.5100e-04,\n",
      "        -1.5793e-02, -2.5071e-02,  2.3710e-02,  2.3067e-02,  2.9669e-02,\n",
      "        -2.6013e-02,  4.2112e-02,  3.3522e-02, -6.8727e-02, -1.6226e-03,\n",
      "        -3.9230e-02, -1.4082e-02,  4.5484e-02,  2.9714e-02,  3.2423e-02,\n",
      "         4.5332e-02, -8.4504e-03, -1.2175e-02,  4.9675e-02,  4.9821e-03,\n",
      "         3.5361e-03,  5.0988e-02, -9.5496e-03, -1.0070e-02, -4.1873e-02,\n",
      "        -8.2437e-03, -2.1808e-02,  5.7837e-03,  1.2766e-02,  2.5432e-03,\n",
      "        -2.3144e-02, -5.0482e-02,  2.6386e-02,  9.4487e-03, -1.1225e-01,\n",
      "        -5.9313e-02,  1.9090e-02, -2.3671e-02, -4.2927e-02,  1.0432e-02,\n",
      "        -1.1602e-02,  1.9154e-02, -4.4334e-02,  5.8660e-03,  8.6105e-02,\n",
      "        -2.8478e-02,  5.6647e-02,  1.0667e-02, -3.7823e-02,  7.1633e-03,\n",
      "         6.2366e-02,  1.5526e-02, -1.5121e-02, -8.4968e-02,  2.1739e-02,\n",
      "        -7.2885e-03,  5.5380e-02, -8.2231e-03, -2.6244e-02, -2.7268e-02,\n",
      "        -6.1963e-02,  1.9665e-03,  2.2981e-02, -6.5161e-02, -3.5260e-02,\n",
      "        -1.2575e-02, -1.0736e-02, -9.5357e-03,  2.3233e-02, -1.7838e-02,\n",
      "         1.7580e-02,  1.4677e-03, -2.9921e-02, -1.3202e-02, -4.8280e-02,\n",
      "        -8.5397e-02,  1.9554e-02, -9.4044e-02,  2.2993e-02,  4.8353e-02,\n",
      "        -5.4981e-03, -1.7097e-02,  7.6700e-02, -9.0218e-02,  1.0128e-02,\n",
      "         9.5894e-03,  1.8218e-02, -5.5622e-03,  3.5029e-02, -3.1033e-02,\n",
      "        -7.0048e-03,  3.1154e-02, -2.0606e-02, -1.7473e-02,  2.0123e-02,\n",
      "        -4.0251e-02, -9.9812e-03,  8.0564e-03, -6.9934e-02, -1.3063e-02,\n",
      "         4.0817e-02,  2.6739e-02,  3.9085e-02, -2.2889e-02, -6.7201e-02,\n",
      "        -2.9152e-02,  8.0642e-02,  2.3707e-02, -4.6559e-02,  3.1527e-02,\n",
      "        -2.5573e-02,  6.6656e-02, -2.4770e-03, -7.1675e-04,  1.5986e-02,\n",
      "        -9.4783e-02, -6.9994e-03, -3.0101e-02,  3.7124e-03, -3.7860e-02,\n",
      "         1.4473e-02, -8.8885e-03,  4.3942e-03,  2.5849e-02, -1.0730e-02,\n",
      "         5.9455e-02, -5.2473e-03, -3.1628e-02, -1.3702e-02, -4.1185e-02,\n",
      "        -3.4216e-03,  3.3616e-02, -1.6137e-02,  1.1218e-01, -2.5451e-02,\n",
      "         5.9421e-03, -4.1967e-02, -1.1177e-02, -3.5199e-03,  2.8171e-02,\n",
      "        -7.9335e-03,  2.9104e-03, -3.4345e-03,  1.2468e-02, -6.8629e-02,\n",
      "         1.1623e-01,  6.5512e-04,  4.6722e-02, -3.8068e-02, -5.7454e-03,\n",
      "        -1.4838e-02, -2.8901e-03,  3.8278e-03,  6.2629e-04,  1.8935e-03,\n",
      "         3.4328e-02, -1.1855e-02, -8.3515e-03,  3.9418e-02, -5.1043e-03,\n",
      "        -2.4175e-02, -1.5353e-03, -1.6153e-02, -4.2538e-02,  1.6711e-02,\n",
      "         3.0812e-02, -1.9751e-02, -5.4960e-03, -1.9455e-02,  4.5958e-02,\n",
      "         7.4124e-02, -9.8125e-03, -2.7880e-02,  1.9816e-02,  1.1790e-02,\n",
      "        -4.1614e-02, -3.3883e-02, -1.0039e-02,  1.9087e-02,  2.8153e-02,\n",
      "         9.1467e-02, -2.4515e-02,  1.0974e-02], device='cuda:0')\n",
      "Kích thước của embedding: torch.Size([201278, 768])\n"
     ]
    }
   ],
   "source": [
    "\n",
    "import torch\n",
    "\n",
    "# Đường dẫn đến tệp .pt\n",
    "file_path = \"/kaggle/input/embedding-doc/doc_embeddings_hl_ft.pt\"\n",
    "\n",
    "# Tải dữ liệu\n",
    "data = torch.load(file_path)\n",
    "\n",
    "# Kiểm tra và xử lý dữ liệu\n",
    "if isinstance(data, torch.Tensor):\n",
    "    # Nếu toàn bộ file là một tensor\n",
    "    embeddings = data\n",
    "elif isinstance(data, dict) and 'embeddings' in data:\n",
    "    # Nếu file là dictionary và chứa key 'embeddings'\n",
    "    embeddings = data['embeddings']\n",
    "else:\n",
    "    raise ValueError(\"File không chứa embeddings hoặc không đúng định dạng!\")\n",
    "\n",
    "# Hiển thị thông tin embeddings\n",
    "print(f\"Tổng số embeddings: {len(embeddings)}\")\n",
    "print(\"Embedding mẫu:\", embeddings[0])\n",
    "\n",
    "# Đảm bảo kiểu dữ liệu là tensor\n",
    "if isinstance(embeddings, torch.Tensor):\n",
    "    print(f\"Kích thước của embedding: {embeddings.shape}\")\n"
   ]
  },
  {
   "cell_type": "code",
   "execution_count": 11,
   "metadata": {
    "execution": {
     "iopub.execute_input": "2025-01-14T01:55:51.941306Z",
     "iopub.status.busy": "2025-01-14T01:55:51.941067Z",
     "iopub.status.idle": "2025-01-14T01:55:51.946556Z",
     "shell.execute_reply": "2025-01-14T01:55:51.945792Z",
     "shell.execute_reply.started": "2025-01-14T01:55:51.941279Z"
    },
    "trusted": true
   },
   "outputs": [],
   "source": [
    "import re\n",
    "\n",
    "def preprocess_text(text):\n",
    "    # Replace newline characters with spaces\n",
    "    text = ' '.join(text.splitlines())\n",
    "    \n",
    "    # Replace escaped newline characters with periods\n",
    "    text = text.replace('\\\\n', '.')\n",
    "    \n",
    "    # Remove specific unwanted characters and patterns\n",
    "    text = text.replace('/', '')\n",
    "    text = text.replace(\"''\", '')\n",
    "    text = text.strip(\"[]\")\n",
    "    text = text.strip(\"'\")\n",
    "    text = text.strip('\"')\n",
    "    \n",
    "    # Remove numbered list indicators and lettered list indicators\n",
    "    text = re.sub(r'\\b\\d\\.\\s*', '', text)  # Removes patterns like '1. ', '2. ', etc.\n",
    "    text = re.sub(r'\\b[a-e]\\)\\s*', '', text)  # Removes patterns like 'a) ', 'b) ', etc.\n",
    "    \n",
    "    # Replace certain punctuation with periods\n",
    "    text = text.replace(';', '.')\n",
    "    text = text.replace(':', '.')\n",
    "    \n",
    "    # Remove hyphens\n",
    "    text = text.replace('-', '')\n",
    "    \n",
    "    # Strip leading and trailing whitespace\n",
    "    text = text.strip()\n",
    "\n",
    "    text = re.sub(r'\\s{2,}', ' ', text)\n",
    "\n",
    "    \n",
    "    return text\n",
    "\n"
   ]
  },
  {
   "cell_type": "code",
   "execution_count": null,
   "metadata": {
    "trusted": true
   },
   "outputs": [],
   "source": [
    "    torch.cuda.empty_cache()\n",
    "    \n",
    "    # Query đầu vào\n",
    "    query = \"Sốt xuất huyết ở trẻ em nguy hiểm thế nào khi không xử lý đúng cách?\"\n",
    "    \n",
    "    # Encode query bằng model\n",
    "    query_embedding = model.encode(query, convert_to_tensor=True)\n",
    "    \n",
    "    # Tìm top-k văn bản liên quan nhất trong embeddings\n",
    "    top_k = 50\n",
    "    hits = util.semantic_search(query_embedding, embeddings, top_k=top_k)[0]\n",
    "    \n",
    "    # Hiển thị thông tin query\n",
    "    print(query)\n",
    "    print(\"\")\n",
    "    print(\"Context:\")\n",
    "    print(\"\")\n",
    "    \n",
    "    # In top 10 kết quả dựa trên điểm bi-encoder (bi_score)\n",
    "    for hit in hits[:10]:\n",
    "        score = hit['score']\n",
    "        corpus_id = hit['corpus_id']\n",
    "        print(\"bi_score: \", score)\n",
    "        print(corpus.iloc[corpus_id]['context'])  # Truy cập cột context trong corpus\n",
    "        print(\" \")\n",
    "    \n",
    "    # Chuẩn bị input cho cross-encoder\n",
    "    # preprocess_text là hàm tiền xử lý nếu cần, nếu không cần thì giữ nguyên văn bản\n",
    "    cross_inp = [[query, corpus.iloc[hit['corpus_id']]['context']] for hit in hits]\n",
    "    \n",
    "    # Tính điểm cross-encoder\n",
    "    cross_scores = cross_encoder.predict(cross_inp)\n",
    "    \n",
    "    # Cập nhật điểm cross-score cho các hits\n",
    "    for idx in range(len(hits)):\n",
    "        hits[idx]['cross-score'] = cross_scores[idx]\n",
    "    \n",
    "    # Sắp xếp hits theo cross-score (giảm dần)\n",
    "    hits = sorted(hits, key=lambda x: x['cross-score'], reverse=True)\n",
    "    \n",
    "    # In top 10 kết quả dựa trên điểm cross-encoder (cross_score)\n",
    "    for hit in hits[:10]:\n",
    "        score = hit['cross-score']\n",
    "        corpus_id = hit['corpus_id']\n",
    "        print(\"cross_score: \", score)\n",
    "        print(corpus.iloc[corpus_id]['context'])  # Truy cập cột context trong corpus\n",
    "        print(\" \")\n",
    "    \n",
    "    # Giải phóng bộ nhớ GPU (nếu cần)\n",
    "    torch.cuda.empty_cache()"
   ]
  },
  {
   "cell_type": "code",
   "execution_count": 14,
   "metadata": {
    "execution": {
     "iopub.execute_input": "2025-01-13T19:45:57.815452Z",
     "iopub.status.busy": "2025-01-13T19:45:57.815220Z",
     "iopub.status.idle": "2025-01-13T19:56:13.605365Z",
     "shell.execute_reply": "2025-01-13T19:56:13.604531Z",
     "shell.execute_reply.started": "2025-01-13T19:45:57.815429Z"
    },
    "trusted": true
   },
   "outputs": [
    {
     "name": "stderr",
     "output_type": "stream",
     "text": [
      "<ipython-input-14-112b347480d8>:31: FutureWarning: You are using `torch.load` with `weights_only=False` (the current default value), which uses the default pickle module implicitly. It is possible to construct malicious pickle data which will execute arbitrary code during unpickling (See https://github.com/pytorch/pytorch/blob/main/SECURITY.md#untrusted-models for more details). In a future release, the default value for `weights_only` will be flipped to `True`. This limits the functions that could be executed during unpickling. Arbitrary objects will no longer be allowed to be loaded via this mode unless they are explicitly allowlisted by the user via `torch.serialization.add_safe_globals`. We recommend you start setting `weights_only=True` for any use case where you don't have full control of the loaded file. Please open an issue on GitHub for any issues related to this experimental feature.\n",
      "  doc_embeddings = torch.load(doc_embedding_file)\n"
     ]
    },
    {
     "data": {
      "application/vnd.jupyter.widget-view+json": {
       "model_id": "2da9a8fba0584b8782002debc3898272",
       "version_major": 2,
       "version_minor": 0
      },
      "text/plain": [
       "Batches:   0%|          | 0/1 [00:00<?, ?it/s]"
      ]
     },
     "metadata": {},
     "output_type": "display_data"
    },
    {
     "data": {
      "application/vnd.jupyter.widget-view+json": {
       "model_id": "916eff1049b44be18c2c16cf987cddf2",
       "version_major": 2,
       "version_minor": 0
      },
      "text/plain": [
       "Batches:   0%|          | 0/2 [00:00<?, ?it/s]"
      ]
     },
     "metadata": {},
     "output_type": "display_data"
    },
    {
     "data": {
      "application/vnd.jupyter.widget-view+json": {
       "model_id": "0b14c1deaf00491f8128672bf56fa103",
       "version_major": 2,
       "version_minor": 0
      },
      "text/plain": [
       "Batches:   0%|          | 0/1 [00:00<?, ?it/s]"
      ]
     },
     "metadata": {},
     "output_type": "display_data"
    },
    {
     "data": {
      "application/vnd.jupyter.widget-view+json": {
       "model_id": "c8780647ec2d4cd3913a901bf290df1a",
       "version_major": 2,
       "version_minor": 0
      },
      "text/plain": [
       "Batches:   0%|          | 0/2 [00:00<?, ?it/s]"
      ]
     },
     "metadata": {},
     "output_type": "display_data"
    },
    {
     "data": {
      "application/vnd.jupyter.widget-view+json": {
       "model_id": "03ecaf514dfa45c99cb3a195bf1c97be",
       "version_major": 2,
       "version_minor": 0
      },
      "text/plain": [
       "Batches:   0%|          | 0/1 [00:00<?, ?it/s]"
      ]
     },
     "metadata": {},
     "output_type": "display_data"
    },
    {
     "data": {
      "application/vnd.jupyter.widget-view+json": {
       "model_id": "d1f7d0459f3640c8be3a308c790c743f",
       "version_major": 2,
       "version_minor": 0
      },
      "text/plain": [
       "Batches:   0%|          | 0/2 [00:00<?, ?it/s]"
      ]
     },
     "metadata": {},
     "output_type": "display_data"
    },
    {
     "data": {
      "application/vnd.jupyter.widget-view+json": {
       "model_id": "5349ad049b9e44c7a14e7b15a4028c6e",
       "version_major": 2,
       "version_minor": 0
      },
      "text/plain": [
       "Batches:   0%|          | 0/1 [00:00<?, ?it/s]"
      ]
     },
     "metadata": {},
     "output_type": "display_data"
    },
    {
     "data": {
      "application/vnd.jupyter.widget-view+json": {
       "model_id": "70c4d2b1e3f64413a56c71160390044e",
       "version_major": 2,
       "version_minor": 0
      },
      "text/plain": [
       "Batches:   0%|          | 0/2 [00:00<?, ?it/s]"
      ]
     },
     "metadata": {},
     "output_type": "display_data"
    },
    {
     "data": {
      "application/vnd.jupyter.widget-view+json": {
       "model_id": "cc254bd12354453fbbb0d34038ea2705",
       "version_major": 2,
       "version_minor": 0
      },
      "text/plain": [
       "Batches:   0%|          | 0/1 [00:00<?, ?it/s]"
      ]
     },
     "metadata": {},
     "output_type": "display_data"
    },
    {
     "data": {
      "application/vnd.jupyter.widget-view+json": {
       "model_id": "21b095e656f44bce8fcd4635cb4485ae",
       "version_major": 2,
       "version_minor": 0
      },
      "text/plain": [
       "Batches:   0%|          | 0/2 [00:00<?, ?it/s]"
      ]
     },
     "metadata": {},
     "output_type": "display_data"
    },
    {
     "data": {
      "application/vnd.jupyter.widget-view+json": {
       "model_id": "3a0b6762e3304873a035f6111f43f39b",
       "version_major": 2,
       "version_minor": 0
      },
      "text/plain": [
       "Batches:   0%|          | 0/1 [00:00<?, ?it/s]"
      ]
     },
     "metadata": {},
     "output_type": "display_data"
    },
    {
     "data": {
      "application/vnd.jupyter.widget-view+json": {
       "model_id": "2f3477c347884643a5f61d40641a0125",
       "version_major": 2,
       "version_minor": 0
      },
      "text/plain": [
       "Batches:   0%|          | 0/2 [00:00<?, ?it/s]"
      ]
     },
     "metadata": {},
     "output_type": "display_data"
    },
    {
     "data": {
      "application/vnd.jupyter.widget-view+json": {
       "model_id": "a58c8f69e24e47ffbe0a2942d8e5795d",
       "version_major": 2,
       "version_minor": 0
      },
      "text/plain": [
       "Batches:   0%|          | 0/1 [00:00<?, ?it/s]"
      ]
     },
     "metadata": {},
     "output_type": "display_data"
    },
    {
     "data": {
      "application/vnd.jupyter.widget-view+json": {
       "model_id": "e2cdc1b8349345d19f6e5b94510e5602",
       "version_major": 2,
       "version_minor": 0
      },
      "text/plain": [
       "Batches:   0%|          | 0/2 [00:00<?, ?it/s]"
      ]
     },
     "metadata": {},
     "output_type": "display_data"
    },
    {
     "data": {
      "application/vnd.jupyter.widget-view+json": {
       "model_id": "71fbf81a493e4855b45600a23f9838de",
       "version_major": 2,
       "version_minor": 0
      },
      "text/plain": [
       "Batches:   0%|          | 0/1 [00:00<?, ?it/s]"
      ]
     },
     "metadata": {},
     "output_type": "display_data"
    },
    {
     "data": {
      "application/vnd.jupyter.widget-view+json": {
       "model_id": "a79c7285525b4beaa5ccea24c6faba8d",
       "version_major": 2,
       "version_minor": 0
      },
      "text/plain": [
       "Batches:   0%|          | 0/2 [00:00<?, ?it/s]"
      ]
     },
     "metadata": {},
     "output_type": "display_data"
    },
    {
     "data": {
      "application/vnd.jupyter.widget-view+json": {
       "model_id": "1642aad001a54ff1bb2bc1c118a6bfa5",
       "version_major": 2,
       "version_minor": 0
      },
      "text/plain": [
       "Batches:   0%|          | 0/1 [00:00<?, ?it/s]"
      ]
     },
     "metadata": {},
     "output_type": "display_data"
    },
    {
     "data": {
      "application/vnd.jupyter.widget-view+json": {
       "model_id": "e65b888ea3934dad94318c85cc55a12a",
       "version_major": 2,
       "version_minor": 0
      },
      "text/plain": [
       "Batches:   0%|          | 0/2 [00:00<?, ?it/s]"
      ]
     },
     "metadata": {},
     "output_type": "display_data"
    },
    {
     "data": {
      "application/vnd.jupyter.widget-view+json": {
       "model_id": "ed9fc59a83cc44df82e864af409ca370",
       "version_major": 2,
       "version_minor": 0
      },
      "text/plain": [
       "Batches:   0%|          | 0/1 [00:00<?, ?it/s]"
      ]
     },
     "metadata": {},
     "output_type": "display_data"
    },
    {
     "data": {
      "application/vnd.jupyter.widget-view+json": {
       "model_id": "6993fe4e045749cea7a2b483a53eecb6",
       "version_major": 2,
       "version_minor": 0
      },
      "text/plain": [
       "Batches:   0%|          | 0/2 [00:00<?, ?it/s]"
      ]
     },
     "metadata": {},
     "output_type": "display_data"
    },
    {
     "data": {
      "application/vnd.jupyter.widget-view+json": {
       "model_id": "40f0b32c0f95461e8dd9ec6ddc38c71f",
       "version_major": 2,
       "version_minor": 0
      },
      "text/plain": [
       "Batches:   0%|          | 0/1 [00:00<?, ?it/s]"
      ]
     },
     "metadata": {},
     "output_type": "display_data"
    },
    {
     "data": {
      "application/vnd.jupyter.widget-view+json": {
       "model_id": "6b6671e81cd64646939f97f5eeeed605",
       "version_major": 2,
       "version_minor": 0
      },
      "text/plain": [
       "Batches:   0%|          | 0/2 [00:00<?, ?it/s]"
      ]
     },
     "metadata": {},
     "output_type": "display_data"
    },
    {
     "data": {
      "application/vnd.jupyter.widget-view+json": {
       "model_id": "1cc731e18f8142de9c705abdf628d9a2",
       "version_major": 2,
       "version_minor": 0
      },
      "text/plain": [
       "Batches:   0%|          | 0/1 [00:00<?, ?it/s]"
      ]
     },
     "metadata": {},
     "output_type": "display_data"
    },
    {
     "data": {
      "application/vnd.jupyter.widget-view+json": {
       "model_id": "f2942e6c712d46de8f816705178604a9",
       "version_major": 2,
       "version_minor": 0
      },
      "text/plain": [
       "Batches:   0%|          | 0/2 [00:00<?, ?it/s]"
      ]
     },
     "metadata": {},
     "output_type": "display_data"
    },
    {
     "data": {
      "application/vnd.jupyter.widget-view+json": {
       "model_id": "0adef69d1d7143d89e2f4822bcb448ce",
       "version_major": 2,
       "version_minor": 0
      },
      "text/plain": [
       "Batches:   0%|          | 0/1 [00:00<?, ?it/s]"
      ]
     },
     "metadata": {},
     "output_type": "display_data"
    },
    {
     "data": {
      "application/vnd.jupyter.widget-view+json": {
       "model_id": "33021cf0d4404943ba9181367c5b0847",
       "version_major": 2,
       "version_minor": 0
      },
      "text/plain": [
       "Batches:   0%|          | 0/2 [00:00<?, ?it/s]"
      ]
     },
     "metadata": {},
     "output_type": "display_data"
    },
    {
     "data": {
      "application/vnd.jupyter.widget-view+json": {
       "model_id": "6d7be6bb14ea470f823eb84e66fe3e55",
       "version_major": 2,
       "version_minor": 0
      },
      "text/plain": [
       "Batches:   0%|          | 0/1 [00:00<?, ?it/s]"
      ]
     },
     "metadata": {},
     "output_type": "display_data"
    },
    {
     "data": {
      "application/vnd.jupyter.widget-view+json": {
       "model_id": "5558da38f38841ccb2757169bc3c3ee9",
       "version_major": 2,
       "version_minor": 0
      },
      "text/plain": [
       "Batches:   0%|          | 0/2 [00:00<?, ?it/s]"
      ]
     },
     "metadata": {},
     "output_type": "display_data"
    },
    {
     "data": {
      "application/vnd.jupyter.widget-view+json": {
       "model_id": "78bb8617fcb8400caa3f897a62053a13",
       "version_major": 2,
       "version_minor": 0
      },
      "text/plain": [
       "Batches:   0%|          | 0/1 [00:00<?, ?it/s]"
      ]
     },
     "metadata": {},
     "output_type": "display_data"
    },
    {
     "data": {
      "application/vnd.jupyter.widget-view+json": {
       "model_id": "f92f0ef6a5d3450e865c24e55a7a4063",
       "version_major": 2,
       "version_minor": 0
      },
      "text/plain": [
       "Batches:   0%|          | 0/2 [00:00<?, ?it/s]"
      ]
     },
     "metadata": {},
     "output_type": "display_data"
    },
    {
     "data": {
      "application/vnd.jupyter.widget-view+json": {
       "model_id": "be4340f9c6c5418a93dd47da1edafad0",
       "version_major": 2,
       "version_minor": 0
      },
      "text/plain": [
       "Batches:   0%|          | 0/1 [00:00<?, ?it/s]"
      ]
     },
     "metadata": {},
     "output_type": "display_data"
    },
    {
     "data": {
      "application/vnd.jupyter.widget-view+json": {
       "model_id": "c67a724329f74b5a893cd626b1091fd5",
       "version_major": 2,
       "version_minor": 0
      },
      "text/plain": [
       "Batches:   0%|          | 0/2 [00:00<?, ?it/s]"
      ]
     },
     "metadata": {},
     "output_type": "display_data"
    },
    {
     "data": {
      "application/vnd.jupyter.widget-view+json": {
       "model_id": "2f8e8761f48f4d909f78bf41c7f8a9cc",
       "version_major": 2,
       "version_minor": 0
      },
      "text/plain": [
       "Batches:   0%|          | 0/1 [00:00<?, ?it/s]"
      ]
     },
     "metadata": {},
     "output_type": "display_data"
    },
    {
     "data": {
      "application/vnd.jupyter.widget-view+json": {
       "model_id": "c163264c07914bf797b51cd7a8b95a69",
       "version_major": 2,
       "version_minor": 0
      },
      "text/plain": [
       "Batches:   0%|          | 0/2 [00:00<?, ?it/s]"
      ]
     },
     "metadata": {},
     "output_type": "display_data"
    },
    {
     "data": {
      "application/vnd.jupyter.widget-view+json": {
       "model_id": "9fbb688eb6cf4e3ca44c8d818fd1944d",
       "version_major": 2,
       "version_minor": 0
      },
      "text/plain": [
       "Batches:   0%|          | 0/1 [00:00<?, ?it/s]"
      ]
     },
     "metadata": {},
     "output_type": "display_data"
    },
    {
     "data": {
      "application/vnd.jupyter.widget-view+json": {
       "model_id": "872f13f419a24a368aa493e8dd795003",
       "version_major": 2,
       "version_minor": 0
      },
      "text/plain": [
       "Batches:   0%|          | 0/2 [00:00<?, ?it/s]"
      ]
     },
     "metadata": {},
     "output_type": "display_data"
    },
    {
     "data": {
      "application/vnd.jupyter.widget-view+json": {
       "model_id": "511d2d3da5fa4fb2961b45c7b3930ef1",
       "version_major": 2,
       "version_minor": 0
      },
      "text/plain": [
       "Batches:   0%|          | 0/1 [00:00<?, ?it/s]"
      ]
     },
     "metadata": {},
     "output_type": "display_data"
    },
    {
     "data": {
      "application/vnd.jupyter.widget-view+json": {
       "model_id": "e44a8152e91b4d089ae6f020bb0b45fd",
       "version_major": 2,
       "version_minor": 0
      },
      "text/plain": [
       "Batches:   0%|          | 0/2 [00:00<?, ?it/s]"
      ]
     },
     "metadata": {},
     "output_type": "display_data"
    },
    {
     "data": {
      "application/vnd.jupyter.widget-view+json": {
       "model_id": "13f3802a376645dca31cbdacc5a9bbad",
       "version_major": 2,
       "version_minor": 0
      },
      "text/plain": [
       "Batches:   0%|          | 0/1 [00:00<?, ?it/s]"
      ]
     },
     "metadata": {},
     "output_type": "display_data"
    },
    {
     "data": {
      "application/vnd.jupyter.widget-view+json": {
       "model_id": "0258212386fe47cdb22f61c35ed91cbf",
       "version_major": 2,
       "version_minor": 0
      },
      "text/plain": [
       "Batches:   0%|          | 0/2 [00:00<?, ?it/s]"
      ]
     },
     "metadata": {},
     "output_type": "display_data"
    },
    {
     "data": {
      "application/vnd.jupyter.widget-view+json": {
       "model_id": "4cbe80cf83e948baae5451cc74fed6d5",
       "version_major": 2,
       "version_minor": 0
      },
      "text/plain": [
       "Batches:   0%|          | 0/1 [00:00<?, ?it/s]"
      ]
     },
     "metadata": {},
     "output_type": "display_data"
    },
    {
     "data": {
      "application/vnd.jupyter.widget-view+json": {
       "model_id": "9d9f4441b8954c9aa17ca45f6b740532",
       "version_major": 2,
       "version_minor": 0
      },
      "text/plain": [
       "Batches:   0%|          | 0/2 [00:00<?, ?it/s]"
      ]
     },
     "metadata": {},
     "output_type": "display_data"
    },
    {
     "data": {
      "application/vnd.jupyter.widget-view+json": {
       "model_id": "1e1f9015772245408a32ad95ed9f6966",
       "version_major": 2,
       "version_minor": 0
      },
      "text/plain": [
       "Batches:   0%|          | 0/1 [00:00<?, ?it/s]"
      ]
     },
     "metadata": {},
     "output_type": "display_data"
    },
    {
     "data": {
      "application/vnd.jupyter.widget-view+json": {
       "model_id": "d6f1e076883a4f1fa94bb7d46c62405e",
       "version_major": 2,
       "version_minor": 0
      },
      "text/plain": [
       "Batches:   0%|          | 0/2 [00:00<?, ?it/s]"
      ]
     },
     "metadata": {},
     "output_type": "display_data"
    },
    {
     "data": {
      "application/vnd.jupyter.widget-view+json": {
       "model_id": "9221920a910448c99931f9c66e707b1e",
       "version_major": 2,
       "version_minor": 0
      },
      "text/plain": [
       "Batches:   0%|          | 0/1 [00:00<?, ?it/s]"
      ]
     },
     "metadata": {},
     "output_type": "display_data"
    },
    {
     "data": {
      "application/vnd.jupyter.widget-view+json": {
       "model_id": "3d3d866460bd4647a7b6d6a21054413e",
       "version_major": 2,
       "version_minor": 0
      },
      "text/plain": [
       "Batches:   0%|          | 0/2 [00:00<?, ?it/s]"
      ]
     },
     "metadata": {},
     "output_type": "display_data"
    },
    {
     "data": {
      "application/vnd.jupyter.widget-view+json": {
       "model_id": "3e9125ce1bcd45519a4de6646fbe0578",
       "version_major": 2,
       "version_minor": 0
      },
      "text/plain": [
       "Batches:   0%|          | 0/1 [00:00<?, ?it/s]"
      ]
     },
     "metadata": {},
     "output_type": "display_data"
    },
    {
     "data": {
      "application/vnd.jupyter.widget-view+json": {
       "model_id": "56d98b2518294edeada6e24b74cd91bb",
       "version_major": 2,
       "version_minor": 0
      },
      "text/plain": [
       "Batches:   0%|          | 0/2 [00:00<?, ?it/s]"
      ]
     },
     "metadata": {},
     "output_type": "display_data"
    },
    {
     "data": {
      "application/vnd.jupyter.widget-view+json": {
       "model_id": "c368377af2484b88b885b2d02fa9cff6",
       "version_major": 2,
       "version_minor": 0
      },
      "text/plain": [
       "Batches:   0%|          | 0/1 [00:00<?, ?it/s]"
      ]
     },
     "metadata": {},
     "output_type": "display_data"
    },
    {
     "data": {
      "application/vnd.jupyter.widget-view+json": {
       "model_id": "21f4190643a74e039d842ded211769ce",
       "version_major": 2,
       "version_minor": 0
      },
      "text/plain": [
       "Batches:   0%|          | 0/2 [00:00<?, ?it/s]"
      ]
     },
     "metadata": {},
     "output_type": "display_data"
    },
    {
     "data": {
      "application/vnd.jupyter.widget-view+json": {
       "model_id": "089323c502d045f2a7ac431f7f6ad9b0",
       "version_major": 2,
       "version_minor": 0
      },
      "text/plain": [
       "Batches:   0%|          | 0/1 [00:00<?, ?it/s]"
      ]
     },
     "metadata": {},
     "output_type": "display_data"
    },
    {
     "data": {
      "application/vnd.jupyter.widget-view+json": {
       "model_id": "a7f72e42305140679e57ce7f6f876617",
       "version_major": 2,
       "version_minor": 0
      },
      "text/plain": [
       "Batches:   0%|          | 0/2 [00:00<?, ?it/s]"
      ]
     },
     "metadata": {},
     "output_type": "display_data"
    },
    {
     "data": {
      "application/vnd.jupyter.widget-view+json": {
       "model_id": "4949a9c8b8804d8ba84a2830005d015b",
       "version_major": 2,
       "version_minor": 0
      },
      "text/plain": [
       "Batches:   0%|          | 0/1 [00:00<?, ?it/s]"
      ]
     },
     "metadata": {},
     "output_type": "display_data"
    },
    {
     "data": {
      "application/vnd.jupyter.widget-view+json": {
       "model_id": "3bd72e43411a47c4bd49544979ee0e1d",
       "version_major": 2,
       "version_minor": 0
      },
      "text/plain": [
       "Batches:   0%|          | 0/2 [00:00<?, ?it/s]"
      ]
     },
     "metadata": {},
     "output_type": "display_data"
    },
    {
     "data": {
      "application/vnd.jupyter.widget-view+json": {
       "model_id": "a879373ed507476492814396ca8d3835",
       "version_major": 2,
       "version_minor": 0
      },
      "text/plain": [
       "Batches:   0%|          | 0/1 [00:00<?, ?it/s]"
      ]
     },
     "metadata": {},
     "output_type": "display_data"
    },
    {
     "data": {
      "application/vnd.jupyter.widget-view+json": {
       "model_id": "21cd6b8a7a584cf69441030fd36ccc71",
       "version_major": 2,
       "version_minor": 0
      },
      "text/plain": [
       "Batches:   0%|          | 0/2 [00:00<?, ?it/s]"
      ]
     },
     "metadata": {},
     "output_type": "display_data"
    },
    {
     "data": {
      "application/vnd.jupyter.widget-view+json": {
       "model_id": "5b3df43a680047c49c840f3fdd705c5b",
       "version_major": 2,
       "version_minor": 0
      },
      "text/plain": [
       "Batches:   0%|          | 0/1 [00:00<?, ?it/s]"
      ]
     },
     "metadata": {},
     "output_type": "display_data"
    },
    {
     "data": {
      "application/vnd.jupyter.widget-view+json": {
       "model_id": "00c36250c9df42f5a6ff79a835b61932",
       "version_major": 2,
       "version_minor": 0
      },
      "text/plain": [
       "Batches:   0%|          | 0/2 [00:00<?, ?it/s]"
      ]
     },
     "metadata": {},
     "output_type": "display_data"
    },
    {
     "data": {
      "application/vnd.jupyter.widget-view+json": {
       "model_id": "39503355bd984a9b83f19caa2c19294d",
       "version_major": 2,
       "version_minor": 0
      },
      "text/plain": [
       "Batches:   0%|          | 0/1 [00:00<?, ?it/s]"
      ]
     },
     "metadata": {},
     "output_type": "display_data"
    },
    {
     "data": {
      "application/vnd.jupyter.widget-view+json": {
       "model_id": "f82271bd1d754892a02023976d4a1be3",
       "version_major": 2,
       "version_minor": 0
      },
      "text/plain": [
       "Batches:   0%|          | 0/2 [00:00<?, ?it/s]"
      ]
     },
     "metadata": {},
     "output_type": "display_data"
    },
    {
     "data": {
      "application/vnd.jupyter.widget-view+json": {
       "model_id": "4fba424879764f189d9c17ddcfbce487",
       "version_major": 2,
       "version_minor": 0
      },
      "text/plain": [
       "Batches:   0%|          | 0/1 [00:00<?, ?it/s]"
      ]
     },
     "metadata": {},
     "output_type": "display_data"
    },
    {
     "data": {
      "application/vnd.jupyter.widget-view+json": {
       "model_id": "2b9f0ab95c5e4063b6082e7270877c07",
       "version_major": 2,
       "version_minor": 0
      },
      "text/plain": [
       "Batches:   0%|          | 0/2 [00:00<?, ?it/s]"
      ]
     },
     "metadata": {},
     "output_type": "display_data"
    },
    {
     "data": {
      "application/vnd.jupyter.widget-view+json": {
       "model_id": "167b363daece4afa9c16ef0738cc03d9",
       "version_major": 2,
       "version_minor": 0
      },
      "text/plain": [
       "Batches:   0%|          | 0/1 [00:00<?, ?it/s]"
      ]
     },
     "metadata": {},
     "output_type": "display_data"
    },
    {
     "data": {
      "application/vnd.jupyter.widget-view+json": {
       "model_id": "4a42fa6d0fb14e80bb5b2861a6895358",
       "version_major": 2,
       "version_minor": 0
      },
      "text/plain": [
       "Batches:   0%|          | 0/2 [00:00<?, ?it/s]"
      ]
     },
     "metadata": {},
     "output_type": "display_data"
    },
    {
     "data": {
      "application/vnd.jupyter.widget-view+json": {
       "model_id": "36121670382441a5b5ebf56b038fda23",
       "version_major": 2,
       "version_minor": 0
      },
      "text/plain": [
       "Batches:   0%|          | 0/1 [00:00<?, ?it/s]"
      ]
     },
     "metadata": {},
     "output_type": "display_data"
    },
    {
     "data": {
      "application/vnd.jupyter.widget-view+json": {
       "model_id": "5b7a109a82aa4771a17e583fab4a381a",
       "version_major": 2,
       "version_minor": 0
      },
      "text/plain": [
       "Batches:   0%|          | 0/2 [00:00<?, ?it/s]"
      ]
     },
     "metadata": {},
     "output_type": "display_data"
    },
    {
     "data": {
      "application/vnd.jupyter.widget-view+json": {
       "model_id": "9d3b364d7ae943d58bd0af197efb84e9",
       "version_major": 2,
       "version_minor": 0
      },
      "text/plain": [
       "Batches:   0%|          | 0/1 [00:00<?, ?it/s]"
      ]
     },
     "metadata": {},
     "output_type": "display_data"
    },
    {
     "data": {
      "application/vnd.jupyter.widget-view+json": {
       "model_id": "0a28389ce0014d2caa6289a542f1c02f",
       "version_major": 2,
       "version_minor": 0
      },
      "text/plain": [
       "Batches:   0%|          | 0/2 [00:00<?, ?it/s]"
      ]
     },
     "metadata": {},
     "output_type": "display_data"
    },
    {
     "data": {
      "application/vnd.jupyter.widget-view+json": {
       "model_id": "ba60a3904e1f44c9b8c1f0f49cfbc10b",
       "version_major": 2,
       "version_minor": 0
      },
      "text/plain": [
       "Batches:   0%|          | 0/1 [00:00<?, ?it/s]"
      ]
     },
     "metadata": {},
     "output_type": "display_data"
    },
    {
     "data": {
      "application/vnd.jupyter.widget-view+json": {
       "model_id": "cce55cd8645a4489a87e80c6e67df1f6",
       "version_major": 2,
       "version_minor": 0
      },
      "text/plain": [
       "Batches:   0%|          | 0/2 [00:00<?, ?it/s]"
      ]
     },
     "metadata": {},
     "output_type": "display_data"
    },
    {
     "data": {
      "application/vnd.jupyter.widget-view+json": {
       "model_id": "e8c7f57481d54a8dbdd679f87c99672f",
       "version_major": 2,
       "version_minor": 0
      },
      "text/plain": [
       "Batches:   0%|          | 0/1 [00:00<?, ?it/s]"
      ]
     },
     "metadata": {},
     "output_type": "display_data"
    },
    {
     "data": {
      "application/vnd.jupyter.widget-view+json": {
       "model_id": "a62091f49acb4ddc80917fc8ae224357",
       "version_major": 2,
       "version_minor": 0
      },
      "text/plain": [
       "Batches:   0%|          | 0/2 [00:00<?, ?it/s]"
      ]
     },
     "metadata": {},
     "output_type": "display_data"
    },
    {
     "data": {
      "application/vnd.jupyter.widget-view+json": {
       "model_id": "1d3ece72728f47f28c5bacc2d87fbff2",
       "version_major": 2,
       "version_minor": 0
      },
      "text/plain": [
       "Batches:   0%|          | 0/1 [00:00<?, ?it/s]"
      ]
     },
     "metadata": {},
     "output_type": "display_data"
    },
    {
     "data": {
      "application/vnd.jupyter.widget-view+json": {
       "model_id": "f8a87e8f0a184f68b8e73d2ed178e933",
       "version_major": 2,
       "version_minor": 0
      },
      "text/plain": [
       "Batches:   0%|          | 0/2 [00:00<?, ?it/s]"
      ]
     },
     "metadata": {},
     "output_type": "display_data"
    },
    {
     "data": {
      "application/vnd.jupyter.widget-view+json": {
       "model_id": "ddefae72e9634b1c93bfd59ddd3e83a3",
       "version_major": 2,
       "version_minor": 0
      },
      "text/plain": [
       "Batches:   0%|          | 0/1 [00:00<?, ?it/s]"
      ]
     },
     "metadata": {},
     "output_type": "display_data"
    },
    {
     "data": {
      "application/vnd.jupyter.widget-view+json": {
       "model_id": "050a7b30058940c6a272d027a7921fa4",
       "version_major": 2,
       "version_minor": 0
      },
      "text/plain": [
       "Batches:   0%|          | 0/2 [00:00<?, ?it/s]"
      ]
     },
     "metadata": {},
     "output_type": "display_data"
    },
    {
     "data": {
      "application/vnd.jupyter.widget-view+json": {
       "model_id": "cf932df10b314fa3babc647d055671e7",
       "version_major": 2,
       "version_minor": 0
      },
      "text/plain": [
       "Batches:   0%|          | 0/1 [00:00<?, ?it/s]"
      ]
     },
     "metadata": {},
     "output_type": "display_data"
    },
    {
     "data": {
      "application/vnd.jupyter.widget-view+json": {
       "model_id": "03b7b1aae16b4832b84b28a6c2853005",
       "version_major": 2,
       "version_minor": 0
      },
      "text/plain": [
       "Batches:   0%|          | 0/2 [00:00<?, ?it/s]"
      ]
     },
     "metadata": {},
     "output_type": "display_data"
    },
    {
     "data": {
      "application/vnd.jupyter.widget-view+json": {
       "model_id": "35ec17e584a34eebaf95cf1247eb1109",
       "version_major": 2,
       "version_minor": 0
      },
      "text/plain": [
       "Batches:   0%|          | 0/1 [00:00<?, ?it/s]"
      ]
     },
     "metadata": {},
     "output_type": "display_data"
    },
    {
     "data": {
      "application/vnd.jupyter.widget-view+json": {
       "model_id": "98354f364e594bf79653866338472499",
       "version_major": 2,
       "version_minor": 0
      },
      "text/plain": [
       "Batches:   0%|          | 0/2 [00:00<?, ?it/s]"
      ]
     },
     "metadata": {},
     "output_type": "display_data"
    },
    {
     "data": {
      "application/vnd.jupyter.widget-view+json": {
       "model_id": "e3aae1b4eaae4041b5ca0b2afc5f110a",
       "version_major": 2,
       "version_minor": 0
      },
      "text/plain": [
       "Batches:   0%|          | 0/1 [00:00<?, ?it/s]"
      ]
     },
     "metadata": {},
     "output_type": "display_data"
    },
    {
     "data": {
      "application/vnd.jupyter.widget-view+json": {
       "model_id": "cb25b79db9844618904de204a01ce6d8",
       "version_major": 2,
       "version_minor": 0
      },
      "text/plain": [
       "Batches:   0%|          | 0/2 [00:00<?, ?it/s]"
      ]
     },
     "metadata": {},
     "output_type": "display_data"
    },
    {
     "data": {
      "application/vnd.jupyter.widget-view+json": {
       "model_id": "699d3790fac049119a2f48d00612fc59",
       "version_major": 2,
       "version_minor": 0
      },
      "text/plain": [
       "Batches:   0%|          | 0/1 [00:00<?, ?it/s]"
      ]
     },
     "metadata": {},
     "output_type": "display_data"
    },
    {
     "data": {
      "application/vnd.jupyter.widget-view+json": {
       "model_id": "0cf396aca32149e9bec4640db4fcf986",
       "version_major": 2,
       "version_minor": 0
      },
      "text/plain": [
       "Batches:   0%|          | 0/2 [00:00<?, ?it/s]"
      ]
     },
     "metadata": {},
     "output_type": "display_data"
    },
    {
     "data": {
      "application/vnd.jupyter.widget-view+json": {
       "model_id": "afce807d09fb406488b32dc673d5e625",
       "version_major": 2,
       "version_minor": 0
      },
      "text/plain": [
       "Batches:   0%|          | 0/1 [00:00<?, ?it/s]"
      ]
     },
     "metadata": {},
     "output_type": "display_data"
    },
    {
     "data": {
      "application/vnd.jupyter.widget-view+json": {
       "model_id": "ae31838f8a574a9780f46f0702d98a91",
       "version_major": 2,
       "version_minor": 0
      },
      "text/plain": [
       "Batches:   0%|          | 0/2 [00:00<?, ?it/s]"
      ]
     },
     "metadata": {},
     "output_type": "display_data"
    },
    {
     "data": {
      "application/vnd.jupyter.widget-view+json": {
       "model_id": "c2700ec64cc644cf9caaab6fb6197ea2",
       "version_major": 2,
       "version_minor": 0
      },
      "text/plain": [
       "Batches:   0%|          | 0/1 [00:00<?, ?it/s]"
      ]
     },
     "metadata": {},
     "output_type": "display_data"
    },
    {
     "data": {
      "application/vnd.jupyter.widget-view+json": {
       "model_id": "ca6b0600ddd742e8b2afa8a8960ed7c7",
       "version_major": 2,
       "version_minor": 0
      },
      "text/plain": [
       "Batches:   0%|          | 0/2 [00:00<?, ?it/s]"
      ]
     },
     "metadata": {},
     "output_type": "display_data"
    },
    {
     "data": {
      "application/vnd.jupyter.widget-view+json": {
       "model_id": "11afe3eb33f042ca84bf68a9a440b497",
       "version_major": 2,
       "version_minor": 0
      },
      "text/plain": [
       "Batches:   0%|          | 0/1 [00:00<?, ?it/s]"
      ]
     },
     "metadata": {},
     "output_type": "display_data"
    },
    {
     "data": {
      "application/vnd.jupyter.widget-view+json": {
       "model_id": "84457e9a2a80499cb20fa679ce2158c8",
       "version_major": 2,
       "version_minor": 0
      },
      "text/plain": [
       "Batches:   0%|          | 0/2 [00:00<?, ?it/s]"
      ]
     },
     "metadata": {},
     "output_type": "display_data"
    },
    {
     "data": {
      "application/vnd.jupyter.widget-view+json": {
       "model_id": "93046d61703342a68811eaf17eea8e20",
       "version_major": 2,
       "version_minor": 0
      },
      "text/plain": [
       "Batches:   0%|          | 0/1 [00:00<?, ?it/s]"
      ]
     },
     "metadata": {},
     "output_type": "display_data"
    },
    {
     "data": {
      "application/vnd.jupyter.widget-view+json": {
       "model_id": "27867cbdb9ba450b88d75c380f48fdc3",
       "version_major": 2,
       "version_minor": 0
      },
      "text/plain": [
       "Batches:   0%|          | 0/2 [00:00<?, ?it/s]"
      ]
     },
     "metadata": {},
     "output_type": "display_data"
    },
    {
     "data": {
      "application/vnd.jupyter.widget-view+json": {
       "model_id": "82fbafb6f1c04fb3bd0f52bd22e5978c",
       "version_major": 2,
       "version_minor": 0
      },
      "text/plain": [
       "Batches:   0%|          | 0/1 [00:00<?, ?it/s]"
      ]
     },
     "metadata": {},
     "output_type": "display_data"
    },
    {
     "data": {
      "application/vnd.jupyter.widget-view+json": {
       "model_id": "db870bb3996445268ccee70c73af2ec4",
       "version_major": 2,
       "version_minor": 0
      },
      "text/plain": [
       "Batches:   0%|          | 0/2 [00:00<?, ?it/s]"
      ]
     },
     "metadata": {},
     "output_type": "display_data"
    },
    {
     "data": {
      "application/vnd.jupyter.widget-view+json": {
       "model_id": "5e878776cf364310a5b9af971ca32cdc",
       "version_major": 2,
       "version_minor": 0
      },
      "text/plain": [
       "Batches:   0%|          | 0/1 [00:00<?, ?it/s]"
      ]
     },
     "metadata": {},
     "output_type": "display_data"
    },
    {
     "data": {
      "application/vnd.jupyter.widget-view+json": {
       "model_id": "8443b986e4fd4db49499f0d0fb1d7563",
       "version_major": 2,
       "version_minor": 0
      },
      "text/plain": [
       "Batches:   0%|          | 0/2 [00:00<?, ?it/s]"
      ]
     },
     "metadata": {},
     "output_type": "display_data"
    },
    {
     "data": {
      "application/vnd.jupyter.widget-view+json": {
       "model_id": "bf306edd41304d6c92c8b456c8a020a7",
       "version_major": 2,
       "version_minor": 0
      },
      "text/plain": [
       "Batches:   0%|          | 0/1 [00:00<?, ?it/s]"
      ]
     },
     "metadata": {},
     "output_type": "display_data"
    },
    {
     "data": {
      "application/vnd.jupyter.widget-view+json": {
       "model_id": "8b386e5cb5e3481f87b76169822eca62",
       "version_major": 2,
       "version_minor": 0
      },
      "text/plain": [
       "Batches:   0%|          | 0/2 [00:00<?, ?it/s]"
      ]
     },
     "metadata": {},
     "output_type": "display_data"
    },
    {
     "data": {
      "application/vnd.jupyter.widget-view+json": {
       "model_id": "9e0f9a904d404b77aebe3f14d4e2ad50",
       "version_major": 2,
       "version_minor": 0
      },
      "text/plain": [
       "Batches:   0%|          | 0/1 [00:00<?, ?it/s]"
      ]
     },
     "metadata": {},
     "output_type": "display_data"
    },
    {
     "data": {
      "application/vnd.jupyter.widget-view+json": {
       "model_id": "d6263b73c69441159ddc7c684ce196b2",
       "version_major": 2,
       "version_minor": 0
      },
      "text/plain": [
       "Batches:   0%|          | 0/2 [00:00<?, ?it/s]"
      ]
     },
     "metadata": {},
     "output_type": "display_data"
    },
    {
     "data": {
      "application/vnd.jupyter.widget-view+json": {
       "model_id": "597ac3bc64eb4487b33ee8e29662e941",
       "version_major": 2,
       "version_minor": 0
      },
      "text/plain": [
       "Batches:   0%|          | 0/1 [00:00<?, ?it/s]"
      ]
     },
     "metadata": {},
     "output_type": "display_data"
    },
    {
     "data": {
      "application/vnd.jupyter.widget-view+json": {
       "model_id": "ed09e5b7f7434948b7cd47f6914417ec",
       "version_major": 2,
       "version_minor": 0
      },
      "text/plain": [
       "Batches:   0%|          | 0/2 [00:00<?, ?it/s]"
      ]
     },
     "metadata": {},
     "output_type": "display_data"
    },
    {
     "data": {
      "application/vnd.jupyter.widget-view+json": {
       "model_id": "50adbfd5558b4c758bf803052fae752e",
       "version_major": 2,
       "version_minor": 0
      },
      "text/plain": [
       "Batches:   0%|          | 0/1 [00:00<?, ?it/s]"
      ]
     },
     "metadata": {},
     "output_type": "display_data"
    },
    {
     "data": {
      "application/vnd.jupyter.widget-view+json": {
       "model_id": "3707a56f80c046ae92f9d7bb7570c4e2",
       "version_major": 2,
       "version_minor": 0
      },
      "text/plain": [
       "Batches:   0%|          | 0/2 [00:00<?, ?it/s]"
      ]
     },
     "metadata": {},
     "output_type": "display_data"
    },
    {
     "data": {
      "application/vnd.jupyter.widget-view+json": {
       "model_id": "a118ef1ebb4e43c081accfb4e17cba96",
       "version_major": 2,
       "version_minor": 0
      },
      "text/plain": [
       "Batches:   0%|          | 0/1 [00:00<?, ?it/s]"
      ]
     },
     "metadata": {},
     "output_type": "display_data"
    },
    {
     "data": {
      "application/vnd.jupyter.widget-view+json": {
       "model_id": "3484dda78bd14c6e9933a281de0d59d9",
       "version_major": 2,
       "version_minor": 0
      },
      "text/plain": [
       "Batches:   0%|          | 0/2 [00:00<?, ?it/s]"
      ]
     },
     "metadata": {},
     "output_type": "display_data"
    },
    {
     "data": {
      "application/vnd.jupyter.widget-view+json": {
       "model_id": "49671f0fb4a24e519a49045ef641694c",
       "version_major": 2,
       "version_minor": 0
      },
      "text/plain": [
       "Batches:   0%|          | 0/1 [00:00<?, ?it/s]"
      ]
     },
     "metadata": {},
     "output_type": "display_data"
    },
    {
     "data": {
      "application/vnd.jupyter.widget-view+json": {
       "model_id": "97de81e0dddd470587315a3c12401a10",
       "version_major": 2,
       "version_minor": 0
      },
      "text/plain": [
       "Batches:   0%|          | 0/2 [00:00<?, ?it/s]"
      ]
     },
     "metadata": {},
     "output_type": "display_data"
    },
    {
     "data": {
      "application/vnd.jupyter.widget-view+json": {
       "model_id": "4ea411b0cae945feb8ec71b402c2b983",
       "version_major": 2,
       "version_minor": 0
      },
      "text/plain": [
       "Batches:   0%|          | 0/1 [00:00<?, ?it/s]"
      ]
     },
     "metadata": {},
     "output_type": "display_data"
    },
    {
     "data": {
      "application/vnd.jupyter.widget-view+json": {
       "model_id": "c4131aca2c594306bd55c5ca91d0d49a",
       "version_major": 2,
       "version_minor": 0
      },
      "text/plain": [
       "Batches:   0%|          | 0/2 [00:00<?, ?it/s]"
      ]
     },
     "metadata": {},
     "output_type": "display_data"
    },
    {
     "data": {
      "application/vnd.jupyter.widget-view+json": {
       "model_id": "818febf275b143fc8a18bc8574ae118b",
       "version_major": 2,
       "version_minor": 0
      },
      "text/plain": [
       "Batches:   0%|          | 0/1 [00:00<?, ?it/s]"
      ]
     },
     "metadata": {},
     "output_type": "display_data"
    },
    {
     "data": {
      "application/vnd.jupyter.widget-view+json": {
       "model_id": "e2f9f3ec28e74d89820676fb594a006c",
       "version_major": 2,
       "version_minor": 0
      },
      "text/plain": [
       "Batches:   0%|          | 0/2 [00:00<?, ?it/s]"
      ]
     },
     "metadata": {},
     "output_type": "display_data"
    },
    {
     "data": {
      "application/vnd.jupyter.widget-view+json": {
       "model_id": "87dc3e0b440341188507e406f8a2e5ae",
       "version_major": 2,
       "version_minor": 0
      },
      "text/plain": [
       "Batches:   0%|          | 0/1 [00:00<?, ?it/s]"
      ]
     },
     "metadata": {},
     "output_type": "display_data"
    },
    {
     "data": {
      "application/vnd.jupyter.widget-view+json": {
       "model_id": "30c2c6940422439c96e9427b97712e03",
       "version_major": 2,
       "version_minor": 0
      },
      "text/plain": [
       "Batches:   0%|          | 0/2 [00:00<?, ?it/s]"
      ]
     },
     "metadata": {},
     "output_type": "display_data"
    },
    {
     "data": {
      "application/vnd.jupyter.widget-view+json": {
       "model_id": "07f2035718de40609a625fc1d87a604a",
       "version_major": 2,
       "version_minor": 0
      },
      "text/plain": [
       "Batches:   0%|          | 0/1 [00:00<?, ?it/s]"
      ]
     },
     "metadata": {},
     "output_type": "display_data"
    },
    {
     "data": {
      "application/vnd.jupyter.widget-view+json": {
       "model_id": "4d18ee9fbb2e4a30bc638b7a3e2c4c63",
       "version_major": 2,
       "version_minor": 0
      },
      "text/plain": [
       "Batches:   0%|          | 0/2 [00:00<?, ?it/s]"
      ]
     },
     "metadata": {},
     "output_type": "display_data"
    },
    {
     "data": {
      "application/vnd.jupyter.widget-view+json": {
       "model_id": "39542fa3459c498e801fa831099b0146",
       "version_major": 2,
       "version_minor": 0
      },
      "text/plain": [
       "Batches:   0%|          | 0/1 [00:00<?, ?it/s]"
      ]
     },
     "metadata": {},
     "output_type": "display_data"
    },
    {
     "data": {
      "application/vnd.jupyter.widget-view+json": {
       "model_id": "e2d4c1076a9a4c6594c8014c0a5839a1",
       "version_major": 2,
       "version_minor": 0
      },
      "text/plain": [
       "Batches:   0%|          | 0/2 [00:00<?, ?it/s]"
      ]
     },
     "metadata": {},
     "output_type": "display_data"
    },
    {
     "data": {
      "application/vnd.jupyter.widget-view+json": {
       "model_id": "db7d1f4758fb4f19a1788e13e749541e",
       "version_major": 2,
       "version_minor": 0
      },
      "text/plain": [
       "Batches:   0%|          | 0/1 [00:00<?, ?it/s]"
      ]
     },
     "metadata": {},
     "output_type": "display_data"
    },
    {
     "data": {
      "application/vnd.jupyter.widget-view+json": {
       "model_id": "3c7d510277c84ad8a1a63e0452285696",
       "version_major": 2,
       "version_minor": 0
      },
      "text/plain": [
       "Batches:   0%|          | 0/2 [00:00<?, ?it/s]"
      ]
     },
     "metadata": {},
     "output_type": "display_data"
    },
    {
     "data": {
      "application/vnd.jupyter.widget-view+json": {
       "model_id": "4ea8177076b34d1b93dba6ab19ac50cc",
       "version_major": 2,
       "version_minor": 0
      },
      "text/plain": [
       "Batches:   0%|          | 0/1 [00:00<?, ?it/s]"
      ]
     },
     "metadata": {},
     "output_type": "display_data"
    },
    {
     "data": {
      "application/vnd.jupyter.widget-view+json": {
       "model_id": "ac407ffbfefd4c53ae00436237ab9340",
       "version_major": 2,
       "version_minor": 0
      },
      "text/plain": [
       "Batches:   0%|          | 0/2 [00:00<?, ?it/s]"
      ]
     },
     "metadata": {},
     "output_type": "display_data"
    },
    {
     "data": {
      "application/vnd.jupyter.widget-view+json": {
       "model_id": "1fade47dac474ca6ac3799bf066eb3af",
       "version_major": 2,
       "version_minor": 0
      },
      "text/plain": [
       "Batches:   0%|          | 0/1 [00:00<?, ?it/s]"
      ]
     },
     "metadata": {},
     "output_type": "display_data"
    },
    {
     "data": {
      "application/vnd.jupyter.widget-view+json": {
       "model_id": "74c22bb0b0d94f7e974958bae119de24",
       "version_major": 2,
       "version_minor": 0
      },
      "text/plain": [
       "Batches:   0%|          | 0/2 [00:00<?, ?it/s]"
      ]
     },
     "metadata": {},
     "output_type": "display_data"
    },
    {
     "data": {
      "application/vnd.jupyter.widget-view+json": {
       "model_id": "425fe3e7b6e84ab09e39054d41b80ea0",
       "version_major": 2,
       "version_minor": 0
      },
      "text/plain": [
       "Batches:   0%|          | 0/1 [00:00<?, ?it/s]"
      ]
     },
     "metadata": {},
     "output_type": "display_data"
    },
    {
     "data": {
      "application/vnd.jupyter.widget-view+json": {
       "model_id": "fe596d4aa1d3488f8b054df9b4041e79",
       "version_major": 2,
       "version_minor": 0
      },
      "text/plain": [
       "Batches:   0%|          | 0/2 [00:00<?, ?it/s]"
      ]
     },
     "metadata": {},
     "output_type": "display_data"
    },
    {
     "data": {
      "application/vnd.jupyter.widget-view+json": {
       "model_id": "fb9c7d48f63842f9bea0df1600e927ac",
       "version_major": 2,
       "version_minor": 0
      },
      "text/plain": [
       "Batches:   0%|          | 0/1 [00:00<?, ?it/s]"
      ]
     },
     "metadata": {},
     "output_type": "display_data"
    },
    {
     "data": {
      "application/vnd.jupyter.widget-view+json": {
       "model_id": "4eb19aa2894045db9d4d86bd392f2b54",
       "version_major": 2,
       "version_minor": 0
      },
      "text/plain": [
       "Batches:   0%|          | 0/2 [00:00<?, ?it/s]"
      ]
     },
     "metadata": {},
     "output_type": "display_data"
    },
    {
     "data": {
      "application/vnd.jupyter.widget-view+json": {
       "model_id": "3839a580434a4b5c9dcb0836878cc8d7",
       "version_major": 2,
       "version_minor": 0
      },
      "text/plain": [
       "Batches:   0%|          | 0/1 [00:00<?, ?it/s]"
      ]
     },
     "metadata": {},
     "output_type": "display_data"
    },
    {
     "data": {
      "application/vnd.jupyter.widget-view+json": {
       "model_id": "50a9a0d5c4484d6cbbf73766cd5d6ecf",
       "version_major": 2,
       "version_minor": 0
      },
      "text/plain": [
       "Batches:   0%|          | 0/2 [00:00<?, ?it/s]"
      ]
     },
     "metadata": {},
     "output_type": "display_data"
    },
    {
     "data": {
      "application/vnd.jupyter.widget-view+json": {
       "model_id": "2513711638e84c10878c4556a5afa31e",
       "version_major": 2,
       "version_minor": 0
      },
      "text/plain": [
       "Batches:   0%|          | 0/1 [00:00<?, ?it/s]"
      ]
     },
     "metadata": {},
     "output_type": "display_data"
    },
    {
     "data": {
      "application/vnd.jupyter.widget-view+json": {
       "model_id": "e892b2d321384d518b65c51d08d08fd5",
       "version_major": 2,
       "version_minor": 0
      },
      "text/plain": [
       "Batches:   0%|          | 0/2 [00:00<?, ?it/s]"
      ]
     },
     "metadata": {},
     "output_type": "display_data"
    },
    {
     "data": {
      "application/vnd.jupyter.widget-view+json": {
       "model_id": "0d8a282453fb4edf8bbc73bab0b62982",
       "version_major": 2,
       "version_minor": 0
      },
      "text/plain": [
       "Batches:   0%|          | 0/1 [00:00<?, ?it/s]"
      ]
     },
     "metadata": {},
     "output_type": "display_data"
    },
    {
     "data": {
      "application/vnd.jupyter.widget-view+json": {
       "model_id": "cde94d1ab2474819a28b23072f8ebeb8",
       "version_major": 2,
       "version_minor": 0
      },
      "text/plain": [
       "Batches:   0%|          | 0/2 [00:00<?, ?it/s]"
      ]
     },
     "metadata": {},
     "output_type": "display_data"
    },
    {
     "data": {
      "application/vnd.jupyter.widget-view+json": {
       "model_id": "db7d80c4636c41e9b25d7892ce5ff44c",
       "version_major": 2,
       "version_minor": 0
      },
      "text/plain": [
       "Batches:   0%|          | 0/1 [00:00<?, ?it/s]"
      ]
     },
     "metadata": {},
     "output_type": "display_data"
    },
    {
     "data": {
      "application/vnd.jupyter.widget-view+json": {
       "model_id": "50cb90c59f8f4968ab874e94123ea9a0",
       "version_major": 2,
       "version_minor": 0
      },
      "text/plain": [
       "Batches:   0%|          | 0/2 [00:00<?, ?it/s]"
      ]
     },
     "metadata": {},
     "output_type": "display_data"
    },
    {
     "data": {
      "application/vnd.jupyter.widget-view+json": {
       "model_id": "12c8905cc2164f8280d19333b3b71e89",
       "version_major": 2,
       "version_minor": 0
      },
      "text/plain": [
       "Batches:   0%|          | 0/1 [00:00<?, ?it/s]"
      ]
     },
     "metadata": {},
     "output_type": "display_data"
    },
    {
     "data": {
      "application/vnd.jupyter.widget-view+json": {
       "model_id": "9ec5d8ea7b2042b6bcd88f7e0a0177c8",
       "version_major": 2,
       "version_minor": 0
      },
      "text/plain": [
       "Batches:   0%|          | 0/2 [00:00<?, ?it/s]"
      ]
     },
     "metadata": {},
     "output_type": "display_data"
    },
    {
     "data": {
      "application/vnd.jupyter.widget-view+json": {
       "model_id": "6b29e045536b48cfa1529d2ca3aaf643",
       "version_major": 2,
       "version_minor": 0
      },
      "text/plain": [
       "Batches:   0%|          | 0/1 [00:00<?, ?it/s]"
      ]
     },
     "metadata": {},
     "output_type": "display_data"
    },
    {
     "data": {
      "application/vnd.jupyter.widget-view+json": {
       "model_id": "95503d9c2e00419ba259df5389ec8819",
       "version_major": 2,
       "version_minor": 0
      },
      "text/plain": [
       "Batches:   0%|          | 0/2 [00:00<?, ?it/s]"
      ]
     },
     "metadata": {},
     "output_type": "display_data"
    },
    {
     "data": {
      "application/vnd.jupyter.widget-view+json": {
       "model_id": "61d13fe1addb452497ae496adf026e40",
       "version_major": 2,
       "version_minor": 0
      },
      "text/plain": [
       "Batches:   0%|          | 0/1 [00:00<?, ?it/s]"
      ]
     },
     "metadata": {},
     "output_type": "display_data"
    },
    {
     "data": {
      "application/vnd.jupyter.widget-view+json": {
       "model_id": "23b3da49568a47b38c15b15cb4542828",
       "version_major": 2,
       "version_minor": 0
      },
      "text/plain": [
       "Batches:   0%|          | 0/2 [00:00<?, ?it/s]"
      ]
     },
     "metadata": {},
     "output_type": "display_data"
    },
    {
     "data": {
      "application/vnd.jupyter.widget-view+json": {
       "model_id": "ffaee73482554826bf1d7b9ccd72f5c2",
       "version_major": 2,
       "version_minor": 0
      },
      "text/plain": [
       "Batches:   0%|          | 0/1 [00:00<?, ?it/s]"
      ]
     },
     "metadata": {},
     "output_type": "display_data"
    },
    {
     "data": {
      "application/vnd.jupyter.widget-view+json": {
       "model_id": "e233b843b2154748b083f699d93ca0f1",
       "version_major": 2,
       "version_minor": 0
      },
      "text/plain": [
       "Batches:   0%|          | 0/2 [00:00<?, ?it/s]"
      ]
     },
     "metadata": {},
     "output_type": "display_data"
    },
    {
     "data": {
      "application/vnd.jupyter.widget-view+json": {
       "model_id": "5ed7344a3f03431789f8c2cf06a9ab03",
       "version_major": 2,
       "version_minor": 0
      },
      "text/plain": [
       "Batches:   0%|          | 0/1 [00:00<?, ?it/s]"
      ]
     },
     "metadata": {},
     "output_type": "display_data"
    },
    {
     "data": {
      "application/vnd.jupyter.widget-view+json": {
       "model_id": "e0a46db2274640e29d5d2845e5a113d0",
       "version_major": 2,
       "version_minor": 0
      },
      "text/plain": [
       "Batches:   0%|          | 0/2 [00:00<?, ?it/s]"
      ]
     },
     "metadata": {},
     "output_type": "display_data"
    },
    {
     "data": {
      "application/vnd.jupyter.widget-view+json": {
       "model_id": "090d64d64d3448839f9b1de4e9d35ed4",
       "version_major": 2,
       "version_minor": 0
      },
      "text/plain": [
       "Batches:   0%|          | 0/1 [00:00<?, ?it/s]"
      ]
     },
     "metadata": {},
     "output_type": "display_data"
    },
    {
     "data": {
      "application/vnd.jupyter.widget-view+json": {
       "model_id": "41007d1443214a119815057098801847",
       "version_major": 2,
       "version_minor": 0
      },
      "text/plain": [
       "Batches:   0%|          | 0/2 [00:00<?, ?it/s]"
      ]
     },
     "metadata": {},
     "output_type": "display_data"
    },
    {
     "data": {
      "application/vnd.jupyter.widget-view+json": {
       "model_id": "1ed2275f6e9249af9b5e6dc16a9b0c04",
       "version_major": 2,
       "version_minor": 0
      },
      "text/plain": [
       "Batches:   0%|          | 0/1 [00:00<?, ?it/s]"
      ]
     },
     "metadata": {},
     "output_type": "display_data"
    },
    {
     "data": {
      "application/vnd.jupyter.widget-view+json": {
       "model_id": "016591f6f97a4d0a8e68f2beb98d8949",
       "version_major": 2,
       "version_minor": 0
      },
      "text/plain": [
       "Batches:   0%|          | 0/2 [00:00<?, ?it/s]"
      ]
     },
     "metadata": {},
     "output_type": "display_data"
    },
    {
     "data": {
      "application/vnd.jupyter.widget-view+json": {
       "model_id": "1a1e8b0ef09f4c2d84f9174c9143bc2d",
       "version_major": 2,
       "version_minor": 0
      },
      "text/plain": [
       "Batches:   0%|          | 0/1 [00:00<?, ?it/s]"
      ]
     },
     "metadata": {},
     "output_type": "display_data"
    },
    {
     "data": {
      "application/vnd.jupyter.widget-view+json": {
       "model_id": "c6f34b3b66fa4b72a6140fa4a422a7b1",
       "version_major": 2,
       "version_minor": 0
      },
      "text/plain": [
       "Batches:   0%|          | 0/2 [00:00<?, ?it/s]"
      ]
     },
     "metadata": {},
     "output_type": "display_data"
    },
    {
     "data": {
      "application/vnd.jupyter.widget-view+json": {
       "model_id": "8cbda14724e74e73a25d45a182efe692",
       "version_major": 2,
       "version_minor": 0
      },
      "text/plain": [
       "Batches:   0%|          | 0/1 [00:00<?, ?it/s]"
      ]
     },
     "metadata": {},
     "output_type": "display_data"
    },
    {
     "data": {
      "application/vnd.jupyter.widget-view+json": {
       "model_id": "7b6c5ace11ad4ceb8d14329be0492860",
       "version_major": 2,
       "version_minor": 0
      },
      "text/plain": [
       "Batches:   0%|          | 0/2 [00:00<?, ?it/s]"
      ]
     },
     "metadata": {},
     "output_type": "display_data"
    },
    {
     "data": {
      "application/vnd.jupyter.widget-view+json": {
       "model_id": "86434172fae54a6db303baacd77581d9",
       "version_major": 2,
       "version_minor": 0
      },
      "text/plain": [
       "Batches:   0%|          | 0/1 [00:00<?, ?it/s]"
      ]
     },
     "metadata": {},
     "output_type": "display_data"
    },
    {
     "data": {
      "application/vnd.jupyter.widget-view+json": {
       "model_id": "0650955a6a2145bdb47d8abc3f227e57",
       "version_major": 2,
       "version_minor": 0
      },
      "text/plain": [
       "Batches:   0%|          | 0/2 [00:00<?, ?it/s]"
      ]
     },
     "metadata": {},
     "output_type": "display_data"
    },
    {
     "data": {
      "application/vnd.jupyter.widget-view+json": {
       "model_id": "535a74f6823445fab50916b731a559bb",
       "version_major": 2,
       "version_minor": 0
      },
      "text/plain": [
       "Batches:   0%|          | 0/1 [00:00<?, ?it/s]"
      ]
     },
     "metadata": {},
     "output_type": "display_data"
    },
    {
     "data": {
      "application/vnd.jupyter.widget-view+json": {
       "model_id": "c8a8fdba010f43259313b6efedb6a8f9",
       "version_major": 2,
       "version_minor": 0
      },
      "text/plain": [
       "Batches:   0%|          | 0/2 [00:00<?, ?it/s]"
      ]
     },
     "metadata": {},
     "output_type": "display_data"
    },
    {
     "data": {
      "application/vnd.jupyter.widget-view+json": {
       "model_id": "b7a65f90447a495c94c586fc57100375",
       "version_major": 2,
       "version_minor": 0
      },
      "text/plain": [
       "Batches:   0%|          | 0/1 [00:00<?, ?it/s]"
      ]
     },
     "metadata": {},
     "output_type": "display_data"
    },
    {
     "data": {
      "application/vnd.jupyter.widget-view+json": {
       "model_id": "763fa521ce3d4d059a2905ae78098303",
       "version_major": 2,
       "version_minor": 0
      },
      "text/plain": [
       "Batches:   0%|          | 0/2 [00:00<?, ?it/s]"
      ]
     },
     "metadata": {},
     "output_type": "display_data"
    },
    {
     "data": {
      "application/vnd.jupyter.widget-view+json": {
       "model_id": "de6fe79695e549de8bce3fd6816844da",
       "version_major": 2,
       "version_minor": 0
      },
      "text/plain": [
       "Batches:   0%|          | 0/1 [00:00<?, ?it/s]"
      ]
     },
     "metadata": {},
     "output_type": "display_data"
    },
    {
     "data": {
      "application/vnd.jupyter.widget-view+json": {
       "model_id": "6b0af48cf0084ee1af625889db156b86",
       "version_major": 2,
       "version_minor": 0
      },
      "text/plain": [
       "Batches:   0%|          | 0/2 [00:00<?, ?it/s]"
      ]
     },
     "metadata": {},
     "output_type": "display_data"
    },
    {
     "data": {
      "application/vnd.jupyter.widget-view+json": {
       "model_id": "835d7d99e3d44707b8babf4b6613b44e",
       "version_major": 2,
       "version_minor": 0
      },
      "text/plain": [
       "Batches:   0%|          | 0/1 [00:00<?, ?it/s]"
      ]
     },
     "metadata": {},
     "output_type": "display_data"
    },
    {
     "data": {
      "application/vnd.jupyter.widget-view+json": {
       "model_id": "29f5420d2c1e49d589a82ed352cd5968",
       "version_major": 2,
       "version_minor": 0
      },
      "text/plain": [
       "Batches:   0%|          | 0/2 [00:00<?, ?it/s]"
      ]
     },
     "metadata": {},
     "output_type": "display_data"
    },
    {
     "data": {
      "application/vnd.jupyter.widget-view+json": {
       "model_id": "d2af0845e1144d0b9292ebbf0398aabe",
       "version_major": 2,
       "version_minor": 0
      },
      "text/plain": [
       "Batches:   0%|          | 0/1 [00:00<?, ?it/s]"
      ]
     },
     "metadata": {},
     "output_type": "display_data"
    },
    {
     "data": {
      "application/vnd.jupyter.widget-view+json": {
       "model_id": "9defc4667343477685d4ccfd502ff6d4",
       "version_major": 2,
       "version_minor": 0
      },
      "text/plain": [
       "Batches:   0%|          | 0/2 [00:00<?, ?it/s]"
      ]
     },
     "metadata": {},
     "output_type": "display_data"
    },
    {
     "data": {
      "application/vnd.jupyter.widget-view+json": {
       "model_id": "9c77b16c34db4bb99dceb7c9b5b4be67",
       "version_major": 2,
       "version_minor": 0
      },
      "text/plain": [
       "Batches:   0%|          | 0/1 [00:00<?, ?it/s]"
      ]
     },
     "metadata": {},
     "output_type": "display_data"
    },
    {
     "data": {
      "application/vnd.jupyter.widget-view+json": {
       "model_id": "72cacc53f86644aba1eba8129404551b",
       "version_major": 2,
       "version_minor": 0
      },
      "text/plain": [
       "Batches:   0%|          | 0/2 [00:00<?, ?it/s]"
      ]
     },
     "metadata": {},
     "output_type": "display_data"
    },
    {
     "data": {
      "application/vnd.jupyter.widget-view+json": {
       "model_id": "f526663de60342f8ac7afea2f24f604d",
       "version_major": 2,
       "version_minor": 0
      },
      "text/plain": [
       "Batches:   0%|          | 0/1 [00:00<?, ?it/s]"
      ]
     },
     "metadata": {},
     "output_type": "display_data"
    },
    {
     "data": {
      "application/vnd.jupyter.widget-view+json": {
       "model_id": "efc04205811745008e8cc8f8479fbfef",
       "version_major": 2,
       "version_minor": 0
      },
      "text/plain": [
       "Batches:   0%|          | 0/2 [00:00<?, ?it/s]"
      ]
     },
     "metadata": {},
     "output_type": "display_data"
    },
    {
     "data": {
      "application/vnd.jupyter.widget-view+json": {
       "model_id": "0be08db7497e469aa83aafbf31c20758",
       "version_major": 2,
       "version_minor": 0
      },
      "text/plain": [
       "Batches:   0%|          | 0/1 [00:00<?, ?it/s]"
      ]
     },
     "metadata": {},
     "output_type": "display_data"
    },
    {
     "data": {
      "application/vnd.jupyter.widget-view+json": {
       "model_id": "ef0ec9fbb5c8407ab4ba6ee74fe50280",
       "version_major": 2,
       "version_minor": 0
      },
      "text/plain": [
       "Batches:   0%|          | 0/2 [00:00<?, ?it/s]"
      ]
     },
     "metadata": {},
     "output_type": "display_data"
    },
    {
     "data": {
      "application/vnd.jupyter.widget-view+json": {
       "model_id": "d3d7f2ca48f342879dd1129c6fd5b701",
       "version_major": 2,
       "version_minor": 0
      },
      "text/plain": [
       "Batches:   0%|          | 0/1 [00:00<?, ?it/s]"
      ]
     },
     "metadata": {},
     "output_type": "display_data"
    },
    {
     "data": {
      "application/vnd.jupyter.widget-view+json": {
       "model_id": "07d2e74aaca74701b8ec3c15fb8a1c18",
       "version_major": 2,
       "version_minor": 0
      },
      "text/plain": [
       "Batches:   0%|          | 0/2 [00:00<?, ?it/s]"
      ]
     },
     "metadata": {},
     "output_type": "display_data"
    },
    {
     "data": {
      "application/vnd.jupyter.widget-view+json": {
       "model_id": "6275a48c9a104e1ca19ed75c3fdd13de",
       "version_major": 2,
       "version_minor": 0
      },
      "text/plain": [
       "Batches:   0%|          | 0/1 [00:00<?, ?it/s]"
      ]
     },
     "metadata": {},
     "output_type": "display_data"
    },
    {
     "data": {
      "application/vnd.jupyter.widget-view+json": {
       "model_id": "bf9f88d456874fb59e2dabe014174e02",
       "version_major": 2,
       "version_minor": 0
      },
      "text/plain": [
       "Batches:   0%|          | 0/2 [00:00<?, ?it/s]"
      ]
     },
     "metadata": {},
     "output_type": "display_data"
    },
    {
     "data": {
      "application/vnd.jupyter.widget-view+json": {
       "model_id": "d11d8cf8fcc7400ea65cf55ec2c7ce07",
       "version_major": 2,
       "version_minor": 0
      },
      "text/plain": [
       "Batches:   0%|          | 0/1 [00:00<?, ?it/s]"
      ]
     },
     "metadata": {},
     "output_type": "display_data"
    },
    {
     "data": {
      "application/vnd.jupyter.widget-view+json": {
       "model_id": "775cadae52114931af1a73d45764906e",
       "version_major": 2,
       "version_minor": 0
      },
      "text/plain": [
       "Batches:   0%|          | 0/2 [00:00<?, ?it/s]"
      ]
     },
     "metadata": {},
     "output_type": "display_data"
    },
    {
     "data": {
      "application/vnd.jupyter.widget-view+json": {
       "model_id": "8458670edc634bb7a2d869149c63e508",
       "version_major": 2,
       "version_minor": 0
      },
      "text/plain": [
       "Batches:   0%|          | 0/1 [00:00<?, ?it/s]"
      ]
     },
     "metadata": {},
     "output_type": "display_data"
    },
    {
     "data": {
      "application/vnd.jupyter.widget-view+json": {
       "model_id": "d01fe31c05f645e8afdf8c73bf36b7f3",
       "version_major": 2,
       "version_minor": 0
      },
      "text/plain": [
       "Batches:   0%|          | 0/2 [00:00<?, ?it/s]"
      ]
     },
     "metadata": {},
     "output_type": "display_data"
    },
    {
     "data": {
      "application/vnd.jupyter.widget-view+json": {
       "model_id": "920faf5b53bd4e21aaec96641772b672",
       "version_major": 2,
       "version_minor": 0
      },
      "text/plain": [
       "Batches:   0%|          | 0/1 [00:00<?, ?it/s]"
      ]
     },
     "metadata": {},
     "output_type": "display_data"
    },
    {
     "data": {
      "application/vnd.jupyter.widget-view+json": {
       "model_id": "14e76d33da2e4f23816ab18da0353b70",
       "version_major": 2,
       "version_minor": 0
      },
      "text/plain": [
       "Batches:   0%|          | 0/2 [00:00<?, ?it/s]"
      ]
     },
     "metadata": {},
     "output_type": "display_data"
    },
    {
     "data": {
      "application/vnd.jupyter.widget-view+json": {
       "model_id": "701fe0fd18e54153af3a824f20f9185e",
       "version_major": 2,
       "version_minor": 0
      },
      "text/plain": [
       "Batches:   0%|          | 0/1 [00:00<?, ?it/s]"
      ]
     },
     "metadata": {},
     "output_type": "display_data"
    },
    {
     "data": {
      "application/vnd.jupyter.widget-view+json": {
       "model_id": "2ceb869d24d748f78b2ba79e6094cf4c",
       "version_major": 2,
       "version_minor": 0
      },
      "text/plain": [
       "Batches:   0%|          | 0/2 [00:00<?, ?it/s]"
      ]
     },
     "metadata": {},
     "output_type": "display_data"
    },
    {
     "data": {
      "application/vnd.jupyter.widget-view+json": {
       "model_id": "7e963d16cdf14ed49b4359960c5bdc1f",
       "version_major": 2,
       "version_minor": 0
      },
      "text/plain": [
       "Batches:   0%|          | 0/1 [00:00<?, ?it/s]"
      ]
     },
     "metadata": {},
     "output_type": "display_data"
    },
    {
     "data": {
      "application/vnd.jupyter.widget-view+json": {
       "model_id": "3ccfd175ca2a46868bbb8cfa6055ff77",
       "version_major": 2,
       "version_minor": 0
      },
      "text/plain": [
       "Batches:   0%|          | 0/2 [00:00<?, ?it/s]"
      ]
     },
     "metadata": {},
     "output_type": "display_data"
    },
    {
     "data": {
      "application/vnd.jupyter.widget-view+json": {
       "model_id": "4d4c33b5c8f54ccc82fe7f84207c2445",
       "version_major": 2,
       "version_minor": 0
      },
      "text/plain": [
       "Batches:   0%|          | 0/1 [00:00<?, ?it/s]"
      ]
     },
     "metadata": {},
     "output_type": "display_data"
    },
    {
     "data": {
      "application/vnd.jupyter.widget-view+json": {
       "model_id": "689ec68661a444a185b5fa8365af95df",
       "version_major": 2,
       "version_minor": 0
      },
      "text/plain": [
       "Batches:   0%|          | 0/2 [00:00<?, ?it/s]"
      ]
     },
     "metadata": {},
     "output_type": "display_data"
    },
    {
     "data": {
      "application/vnd.jupyter.widget-view+json": {
       "model_id": "6cd8a549fa9d49d086cac6192e26858c",
       "version_major": 2,
       "version_minor": 0
      },
      "text/plain": [
       "Batches:   0%|          | 0/1 [00:00<?, ?it/s]"
      ]
     },
     "metadata": {},
     "output_type": "display_data"
    },
    {
     "data": {
      "application/vnd.jupyter.widget-view+json": {
       "model_id": "6e61cc05133b49d7b107ffe8ed564d5a",
       "version_major": 2,
       "version_minor": 0
      },
      "text/plain": [
       "Batches:   0%|          | 0/2 [00:00<?, ?it/s]"
      ]
     },
     "metadata": {},
     "output_type": "display_data"
    },
    {
     "data": {
      "application/vnd.jupyter.widget-view+json": {
       "model_id": "665e33ecfe8d468c8d759757a6d102d0",
       "version_major": 2,
       "version_minor": 0
      },
      "text/plain": [
       "Batches:   0%|          | 0/1 [00:00<?, ?it/s]"
      ]
     },
     "metadata": {},
     "output_type": "display_data"
    },
    {
     "data": {
      "application/vnd.jupyter.widget-view+json": {
       "model_id": "f963432088ce457d8d410135672f5dab",
       "version_major": 2,
       "version_minor": 0
      },
      "text/plain": [
       "Batches:   0%|          | 0/2 [00:00<?, ?it/s]"
      ]
     },
     "metadata": {},
     "output_type": "display_data"
    },
    {
     "data": {
      "application/vnd.jupyter.widget-view+json": {
       "model_id": "4ac16886215442a4b3c0b54285b4cd8d",
       "version_major": 2,
       "version_minor": 0
      },
      "text/plain": [
       "Batches:   0%|          | 0/1 [00:00<?, ?it/s]"
      ]
     },
     "metadata": {},
     "output_type": "display_data"
    },
    {
     "data": {
      "application/vnd.jupyter.widget-view+json": {
       "model_id": "339b73e3269a4a9c8a3fbd279860a118",
       "version_major": 2,
       "version_minor": 0
      },
      "text/plain": [
       "Batches:   0%|          | 0/2 [00:00<?, ?it/s]"
      ]
     },
     "metadata": {},
     "output_type": "display_data"
    },
    {
     "data": {
      "application/vnd.jupyter.widget-view+json": {
       "model_id": "ed9f8ac3cc044e6f811eceddd3540eab",
       "version_major": 2,
       "version_minor": 0
      },
      "text/plain": [
       "Batches:   0%|          | 0/1 [00:00<?, ?it/s]"
      ]
     },
     "metadata": {},
     "output_type": "display_data"
    },
    {
     "data": {
      "application/vnd.jupyter.widget-view+json": {
       "model_id": "bf34c168038a4697b2e607bb3ae5e8d0",
       "version_major": 2,
       "version_minor": 0
      },
      "text/plain": [
       "Batches:   0%|          | 0/2 [00:00<?, ?it/s]"
      ]
     },
     "metadata": {},
     "output_type": "display_data"
    },
    {
     "data": {
      "application/vnd.jupyter.widget-view+json": {
       "model_id": "34b34fe057c7412f839c99f019a2eec5",
       "version_major": 2,
       "version_minor": 0
      },
      "text/plain": [
       "Batches:   0%|          | 0/1 [00:00<?, ?it/s]"
      ]
     },
     "metadata": {},
     "output_type": "display_data"
    },
    {
     "data": {
      "application/vnd.jupyter.widget-view+json": {
       "model_id": "0534fb7d74ce4efcadc610f3bb3a7335",
       "version_major": 2,
       "version_minor": 0
      },
      "text/plain": [
       "Batches:   0%|          | 0/2 [00:00<?, ?it/s]"
      ]
     },
     "metadata": {},
     "output_type": "display_data"
    },
    {
     "data": {
      "application/vnd.jupyter.widget-view+json": {
       "model_id": "224dd5868d92441fbda717c64ae3cede",
       "version_major": 2,
       "version_minor": 0
      },
      "text/plain": [
       "Batches:   0%|          | 0/1 [00:00<?, ?it/s]"
      ]
     },
     "metadata": {},
     "output_type": "display_data"
    },
    {
     "data": {
      "application/vnd.jupyter.widget-view+json": {
       "model_id": "4454e31d32f34b6cb4dfb3b745b6a8ff",
       "version_major": 2,
       "version_minor": 0
      },
      "text/plain": [
       "Batches:   0%|          | 0/2 [00:00<?, ?it/s]"
      ]
     },
     "metadata": {},
     "output_type": "display_data"
    },
    {
     "name": "stdout",
     "output_type": "stream",
     "text": [
      "MRR: 0.07293627721341175\n"
     ]
    }
   ],
   "source": [
    "import numpy as np\n",
    "import torch\n",
    "import pandas as pd\n",
    "from sentence_transformers import util\n",
    "\n",
    "def calculate_mrr(query_file, corpus_file, doc_embedding_file, model, cross_encoder, top_k=50):\n",
    "    \"\"\"\n",
    "    Tính Mean Reciprocal Rank (MRR) khi kết hợp cả bi-encoder và cross-encoder.\n",
    "\n",
    "    Parameters:\n",
    "    - query_file: Đường dẫn tới file chứa các truy vấn.\n",
    "    - corpus_file: Đường dẫn tới file chứa corpus.\n",
    "    - doc_embedding_file: Đường dẫn tới file chứa document embeddings.\n",
    "    - model: Bi-encoder model dùng để tính embeddings.\n",
    "    - cross_encoder: Cross-encoder model dùng để tính điểm cho các cặp (query, document).\n",
    "    - top_k: Số lượng văn bản được chọn từ bi-encoder để đưa vào cross-encoder.\n",
    "\n",
    "    Returns:\n",
    "    - mrr: Giá trị Mean Reciprocal Rank (float).\n",
    "    \"\"\"\n",
    "    reciprocal_ranks = []\n",
    "\n",
    "    # Load queries và corpus\n",
    "    query_df = pd.read_csv(query_file).head(100)  # Chỉ lấy 1000 query đầu tiên\n",
    "    corpus_df = pd.read_csv(corpus_file)\n",
    "\n",
    "    queries = query_df['query'].tolist()\n",
    "    corpus = corpus_df['context'].tolist()\n",
    "\n",
    "    # Load document embeddings\n",
    "    doc_embeddings = torch.load(doc_embedding_file)\n",
    "    doc_embeddings = doc_embeddings.cpu().numpy() if doc_embeddings.is_cuda else doc_embeddings.numpy()\n",
    "\n",
    "    for query_idx, query in enumerate(queries):\n",
    "        # Encode query bằng model\n",
    "        query_embedding = model.encode(query, convert_to_tensor=True)\n",
    "        query_embedding = query_embedding.cpu().numpy() if query_embedding.is_cuda else query_embedding.numpy()\n",
    "\n",
    "        # Bi-encoder phase: Tính điểm similarity và lấy top-k văn bản liên quan nhất\n",
    "        scores = util.pytorch_cos_sim(query_embedding, doc_embeddings)\n",
    "        scores = scores.squeeze().numpy()\n",
    "        top_k_indices = np.argsort(scores)[::-1][:top_k]\n",
    "\n",
    "        # Chuẩn bị input cho cross-encoder\n",
    "        cross_inp = [[query, corpus[idx]] for idx in top_k_indices]\n",
    "\n",
    "        # Cross-encoder phase: Tính điểm\n",
    "        cross_scores = cross_encoder.predict(cross_inp)\n",
    "\n",
    "        # Sắp xếp lại theo điểm cross-score\n",
    "        ranked_indices = [top_k_indices[idx] for idx in np.argsort(cross_scores)[::-1]]\n",
    "\n",
    "        # Tìm vị trí của câu trả lời đúng\n",
    "        relevant_idx = query_idx  # Đồng bộ query và corpus\n",
    "        rank_position = next((idx + 1 for idx, doc_idx in enumerate(ranked_indices) if doc_idx == relevant_idx), None)\n",
    "\n",
    "        # Tính reciprocal rank\n",
    "        if rank_position is not None:\n",
    "            reciprocal_ranks.append(1 / rank_position)\n",
    "        else:\n",
    "            reciprocal_ranks.append(0)  # Nếu không tìm thấy câu trả lời đúng trong top-k\n",
    "\n",
    "    # Tính Mean Reciprocal Rank\n",
    "    mrr = np.mean(reciprocal_ranks)\n",
    "    return mrr\n",
    "\n",
    "# Đường dẫn tới file truy vấn, corpus và document embeddings\n",
    "query_file = \"/kaggle/input/testmrr/processed_queries.csv\"\n",
    "corpus_file = \"/kaggle/input/testmrr/corpus_with_index.csv\"\n",
    "doc_embedding_file = \"/kaggle/input/testmrr/doc_embeddings (1).pt\"\n",
    "\n",
    "# Giả sử model và cross_encoder đã được khởi tạo từ trước\n",
    "# model = ...  # Bi-encoder model\n",
    "# cross_encoder = ...  # Cross-encoder model\n",
    "\n",
    "# Kiểm tra khởi tạo model và cross_encoder (cần thay thế bằng mô hình thực tế)\n",
    "if 'model' not in locals() or 'cross_encoder' not in locals():\n",
    "    raise ValueError(\"Cần khởi tạo model và cross_encoder trước khi chạy chương trình.\")\n",
    "\n",
    "# Chạy hàm calculate_mrr\n",
    "mrr = calculate_mrr(query_file, corpus_file, doc_embedding_file, model, cross_encoder, top_k=50)\n",
    "print(f\"MRR: {mrr}\")\n"
   ]
  },
  {
   "cell_type": "code",
   "execution_count": 12,
   "metadata": {
    "execution": {
     "iopub.execute_input": "2025-01-14T01:56:02.218542Z",
     "iopub.status.busy": "2025-01-14T01:56:02.218284Z",
     "iopub.status.idle": "2025-01-14T01:56:11.142949Z",
     "shell.execute_reply": "2025-01-14T01:56:11.142192Z",
     "shell.execute_reply.started": "2025-01-14T01:56:02.218517Z"
    },
    "trusted": true
   },
   "outputs": [
    {
     "name": "stderr",
     "output_type": "stream",
     "text": [
      "/usr/lib/python3.10/pty.py:89: RuntimeWarning: os.fork() was called. os.fork() is incompatible with multithreaded code, and JAX is multithreaded, so this will likely lead to a deadlock.\n",
      "  pid, fd = os.forkpty()\n"
     ]
    },
    {
     "name": "stdout",
     "output_type": "stream",
     "text": [
      "Collecting pyngrok\n",
      "  Downloading pyngrok-7.2.3-py3-none-any.whl.metadata (8.7 kB)\n",
      "Requirement already satisfied: PyYAML>=5.1 in /usr/local/lib/python3.10/dist-packages (from pyngrok) (6.0.2)\n",
      "Downloading pyngrok-7.2.3-py3-none-any.whl (23 kB)\n",
      "Installing collected packages: pyngrok\n",
      "Successfully installed pyngrok-7.2.3\n",
      "Authtoken saved to configuration file: /root/.config/ngrok/ngrok.yml                                \n",
      "Collecting flask-cors\n",
      "  Downloading Flask_Cors-5.0.0-py2.py3-none-any.whl.metadata (5.5 kB)\n",
      "Requirement already satisfied: Flask>=0.9 in /usr/local/lib/python3.10/dist-packages (from flask-cors) (2.2.5)\n",
      "Requirement already satisfied: Werkzeug>=2.2.2 in /usr/local/lib/python3.10/dist-packages (from Flask>=0.9->flask-cors) (3.0.4)\n",
      "Requirement already satisfied: Jinja2>=3.0 in /usr/local/lib/python3.10/dist-packages (from Flask>=0.9->flask-cors) (3.1.4)\n",
      "Requirement already satisfied: itsdangerous>=2.0 in /usr/local/lib/python3.10/dist-packages (from Flask>=0.9->flask-cors) (2.2.0)\n",
      "Requirement already satisfied: click>=8.0 in /usr/local/lib/python3.10/dist-packages (from Flask>=0.9->flask-cors) (8.1.7)\n",
      "Requirement already satisfied: MarkupSafe>=2.0 in /usr/local/lib/python3.10/dist-packages (from Jinja2>=3.0->Flask>=0.9->flask-cors) (2.1.5)\n",
      "Downloading Flask_Cors-5.0.0-py2.py3-none-any.whl (14 kB)\n",
      "Installing collected packages: flask-cors\n",
      "Successfully installed flask-cors-5.0.0\n"
     ]
    }
   ],
   "source": [
    "!pip install pyngrok\n",
    "!ngrok config add-authtoken 2qORvsrf7DPupP5SxpxroXZcHrt_5wvaAdPmdAyqb7JHYYN21\n",
    "!pip install flask-cors"
   ]
  },
  {
   "cell_type": "code",
   "execution_count": null,
   "metadata": {
    "execution": {
     "iopub.execute_input": "2025-01-14T01:56:29.870588Z",
     "iopub.status.busy": "2025-01-14T01:56:29.870249Z"
    },
    "trusted": true
   },
   "outputs": [
    {
     "name": "stdout",
     "output_type": "stream",
     "text": [
      "Public URL: NgrokTunnel: \"https://52e4-35-199-158-98.ngrok-free.app\" -> \"http://localhost:5000\"\n",
      " * Serving Flask app '__main__'\n",
      " * Debug mode: off\n"
     ]
    },
    {
     "data": {
      "application/vnd.jupyter.widget-view+json": {
       "model_id": "2fbf2816509d462eb956b13de0075422",
       "version_major": 2,
       "version_minor": 0
      },
      "text/plain": [
       "Batches:   0%|          | 0/1 [00:00<?, ?it/s]"
      ]
     },
     "metadata": {},
     "output_type": "display_data"
    },
    {
     "data": {
      "application/vnd.jupyter.widget-view+json": {
       "model_id": "a94f4f0679ce4f708cadeea79d702cfc",
       "version_major": 2,
       "version_minor": 0
      },
      "text/plain": [
       "Batches:   0%|          | 0/2 [00:00<?, ?it/s]"
      ]
     },
     "metadata": {},
     "output_type": "display_data"
    },
    {
     "name": "stdout",
     "output_type": "stream",
     "text": [
      "cross-encoder\n",
      "Đi tiểu là quá trình bình thường của cơ thể, mục đích chính là đào thải các chất dư thừa hay chất độc ra khỏi cơ thể. Nhiều người thắc mắc hay đi tiểu nhiều lần là bệnh gì? Để trả lời câu hỏi này chúng ta cần xác định số lần đi tiểu mỗi ngày của một người bình thường. Theo đó, vào ban ngày một người bình thường có thể đi tiểu khoảng 5 – 7 lần, còn về đêm tối đa chỉ đi 1 lần hoặc đa số là ngủ liên tục 8 tiếng mà không cần đi tiểu. Vì vậy, định nghĩa tiểu đêm nhiều lần là khi số lần đi tiểu mỗi đêm từ 2 lần trở lên, áp dụng cho cả nam và nữ giới Trong cuộc sống hằng ngày, không khó để bắt gặp tình trạng này và nam giới vẫn thắc mắc vào ban đêm đi tiểu nhiều lần là bệnh gì ? Đây đôi khi không phải là biểu hiện bệnh lý mà được xem là bình thường trong một số tình huống như: Tiểu đêm nhiều lần nhưng không xảy ra thường xuyên; Tiểu đêm nhiều lần do tiêu thụ thực phẩm chứa nhiều nước hoặc uống nước nhiều trước khi đi ngủ. Ngược lại, nếu đã loại trừ các yếu tố có thể gây tiểu đêm không do bệnh lý thì biểu hiện này gợi ý một số bệnh ở nam giới hay gặp như: bàng quang kích thích, u bàng quang, phì đại tiền liệt tuyến, đái tháo đường , nhiễm trùng tiết niệu , sỏi thận, suy thận hoặc tồn tại dị vật đường tiết niệu... Một yếu tố khác làm tăng số lần tiểu mỗi đêm chính là độ tuổi. Theo nghiên cứu, từ giai đoạn 40 tuổi trở lên, con người có nguy cơ gặp phải chứng tiểu đêm nhiều lần. Một cuộc khảo sát cho kết quả, những người nam độ tuổi trên 50 có số lần đi tiểu mỗi đêm từ 3 lần trở lên chiếm tỷ lên lên đến 63%.\n"
     ]
    },
    {
     "data": {
      "application/vnd.jupyter.widget-view+json": {
       "model_id": "756536fb02054fd69436180e40efd749",
       "version_major": 2,
       "version_minor": 0
      },
      "text/plain": [
       "Batches:   0%|          | 0/1 [00:00<?, ?it/s]"
      ]
     },
     "metadata": {},
     "output_type": "display_data"
    },
    {
     "data": {
      "application/vnd.jupyter.widget-view+json": {
       "model_id": "04e759fe04c14d019416f0c2481402b6",
       "version_major": 2,
       "version_minor": 0
      },
      "text/plain": [
       "Batches:   0%|          | 0/2 [00:00<?, ?it/s]"
      ]
     },
     "metadata": {},
     "output_type": "display_data"
    },
    {
     "name": "stdout",
     "output_type": "stream",
     "text": [
      "cross-encoder\n",
      "Với chứng đau đầu do căng thẳng, bạn vẫn trông có vẻ ổn và bình thường dù đang chịu đựng các cơn đau, đồng thời không có các triệu chứng kèm theo khác. Bác sĩ có thể chẩn đoán đau đầu do căng thẳng qua mô tả của bệnh nhân. Ngoài một số cơn đau cơ xung quanh đầu, không có điểm gì bất thường để bác sĩ phát hiện và chẩn đoán phân biệt. Bạn cũng không cần thực hiện các xét nghiệm trừ khi có các triệu chứng bất thường hoặc nghi ngờ mắc phải tình trạng khác ngoài chứng đau đầu căng thẳng mãn tính.\n",
      "\n",
      "Đặc biệt lưu ý, nên loại trừ chứng đau đầu do lạm dụng thuốc vì tình trạng này thường có thể nhầm với đau đầu căng thẳng mãn tính. Đau đầu do lạm dụng thuốc có thể tương tự như đau đầu căng thẳng mãn tính. Tình trạng này là do dùng thuốc giảm đau (hoặc thuốc triptan) quá thường xuyên, dẫn đến đau đầu do căng thẳng hoặc các cơn đau nửa đầu.\n",
      "\n",
      "Đôi khi chứng **đau nửa đầu** cũng bị nhầm với đau đầu căng thẳng mãn tính. Một số người không thích đèn sáng hoặc tiếng ồn lớn, cũng như không muốn ăn nhiều khi bị đau đầu do căng thẳng. Tuy nhiên, cực kỳ nhạy cảm với ánh sáng hoặc tiếng ồn lớn và rối loạn thị giác thường gợi ý chứng đau nửa đầu.\n",
      "\n",
      "Cảm giác ốm nhẹ (buồn nôn) có thể xảy ra, đặc biệt nếu bạn đang sử dụng nhiều thuốc giảm đau. Tuy nhiên, buồn nôn rõ rệt cũng là một đặc điểm của chứng đau nửa đầu.\n",
      "\n",
      "So với chứng đau nửa đầu, đau đầu do căng thẳng thường ít nghiêm trọng hơn, thay vì đau nhói từng cơn. Ngoài ra, các cơn đau nửa đầu thường gây ra đau đầu một bên và nhiều người bị chứng đau nửa đầu cũng cảm thấy buồn nôn hoặc ói mửa. Một số người bị đau nửa đầu và đau đầu căng thẳng vào những thời điểm khác nhau.\n",
      "\n",
      "Ngoài ra, một số bệnh nhân cũng cảm thấy mình mắc thêm một dạng đau đầu khác - chẳng hạn như **đau nhói đầu sau gáy bên phải**, có thể là do cơn đau đầu và mệt mỏi do loại đau đầu căn nguyên gây ra.\n",
      "\n",
      "Những cơn đau đầu tưởng chừng như đơn giản, tuy nhiên bạn không nên chủ quan, bởi đôi khi chúng là dấu hiệu khởi phát của những căn bệnh nguy hiểm, ảnh hưởng tới sức khỏe về sau.\n",
      "\n",
      "**Nguồn tham khảo: nhs.uk - webmd.com**\n"
     ]
    },
    {
     "data": {
      "application/vnd.jupyter.widget-view+json": {
       "model_id": "4c647930c1794c859b2f2442b7fb8da7",
       "version_major": 2,
       "version_minor": 0
      },
      "text/plain": [
       "Batches:   0%|          | 0/1 [00:00<?, ?it/s]"
      ]
     },
     "metadata": {},
     "output_type": "display_data"
    },
    {
     "data": {
      "application/vnd.jupyter.widget-view+json": {
       "model_id": "4085aea44b5d479abab3b8d0b4bf2cbd",
       "version_major": 2,
       "version_minor": 0
      },
      "text/plain": [
       "Batches:   0%|          | 0/2 [00:00<?, ?it/s]"
      ]
     },
     "metadata": {},
     "output_type": "display_data"
    },
    {
     "name": "stdout",
     "output_type": "stream",
     "text": [
      "cross-encoder\n",
      "Do đột quỵ không có triệu chứng báo hiệu kéo dài nên không ai có thể biết trước được khi nào mình sẽ bị đột quỵ. Vì vậy, bạn nên tham khảo, nắm vững những dấu hiệu cảnh báo sớm đột quỵ để phát hiện sớm tình trạng này và cấp cứu kịp thời: Dấu hiệu ở thị lực: Thị lực bị giảm, nhìn mờ 1 mắt hoặc cả 2 mắt. Tuy nhiên, đây là biểu hiện không rõ ràng nên khó nhận ra. Nếu người bệnh nhận thấy mình có dấu hiệu này thì nên yêu cầu được đi cấp cứu ngay; Dấu hiệu ở mặt: Mặt bệnh nhân có biểu hiện đột nhiên không cân xứng, nhân trung hơi lệch qua 1 bên, miệng méo, nếp mũi má bên yếu bị rũ xuống. Đặc biệt, khi bệnh nhân nói hoặc cười sẽ nhìn thấy rõ dấu hiệu méo miệng, thiếu cân xứng trên mặt; Dấu hiệu ở giọng nói: Dấu hiệu báo trước của tai biến đột quỵ có thể biểu hiện qua giọng nói. Người bệnh có thể bị nói ngọng bất thường, môi lưỡi tê cứng, khó mở miệng, gắng sức mới nói được; Dấu hiệu ở tay, chân: Người bệnh có thể cảm thấy tay bị tê mỏi, khó cử động và thao tác. Ngoài ra, bệnh nhân cũng có thể đi lại khó khăn, khó nhấc chân lên. Các dấu hiệu này thường xảy ra ở 1 bên của cơ thể; Dấu hiệu nhận thức: Bệnh nhân có biểu hiện rối loạn trí nhớ, mắt mờ, tai ù nghe không rõ, không nhận thức được; Dấu hiệu thần kinh: Bệnh nhân cảm thấy đau đầu dữ dội. Đây là triệu chứng nặng, phổ biến ở bệnh nhân đột quỵ, đặc biệt là ở những người có tiền sử bị đau nửa đầu. Ngoài ra, có thể sử dụng từ viết tắt FAST nhằm nhận biết những dấu hiệu báo trước cơn đột quỵ : Face (mặt): Bệnh nhân có bị xệ mặt 1 bên khi cố gắng mỉm cười không? Arms (tay): 1 cánh tay của người bệnh có bị thấp hơn nếu cố gắng giơ cả 2 tay lên không? Speech (lời nói): Bệnh nhân có thể nói, nhắc lại 1 câu đơn giản không, có nói lắp hoặc nói những lời khó hiểu không? Time (thời gian): Thời gian đột quỵ tính theo từng giây, từng phút. Nếu phát hiện bệnh nhân có các dấu hiệu như trên, cần gọi cấp cứu ngay. Nếu gặp những dấu hiệu điển hình kể trên thì đó là những biểu hiện của tiền đột quỵ, sắp xảy ra đột quỵ nguy hiểm tới tính mạng.\n"
     ]
    }
   ],
   "source": [
    "from flask import Flask, request, jsonify\n",
    "from pyngrok import ngrok\n",
    "from flask_cors import CORS\n",
    "import requests  # Thư viện để gọi API HTTP\n",
    "\n",
    "app = Flask(__name__)\n",
    "CORS(app)\n",
    "\n",
    "# URL server ngrok thay vì sử dụng hàm `phogpt`\n",
    "NGROK_SERVER_URL = \"https://f330-183-80-32-59.ngrok-free.app\"  # Thay bằng URL ngrok của bạn\n",
    "\n",
    "@app.route('/predict', methods=['POST'])\n",
    "def predict():\n",
    "    try:\n",
    "        # Lấy dữ liệu từ request.form\n",
    "        question = request.form.get('message')  # 'message' khớp với key trong JavaScript\n",
    "        if not question:\n",
    "            return jsonify({\"error\": \"Missing question\"}), 400\n",
    "\n",
    "        query_embedding = model.encode(question)\n",
    "        hits = util.semantic_search(query_embedding, embeddings, top_k=50)[0]\n",
    "        cross_inp = [[preprocess_text(question), preprocess_text(corpus.iloc[hit['corpus_id']]['context'])] for hit in hits]\n",
    "        cross_scores = cross_encoder.predict(cross_inp)\n",
    "        for idx in range(len(hits)):\n",
    "            hits[idx]['cross-score'] = cross_scores[idx]\n",
    "        hits = sorted(hits, key=lambda x: x['cross-score'], reverse=True)\n",
    "        best_hit = hits[0]\n",
    "        top_k_cross = corpus.iloc[best_hit['corpus_id']]['context']\n",
    "        print('cross-encoder')\n",
    "        \n",
    "        # Cross-encoder refinement\n",
    "        print(top_k_cross)\n",
    "        # Gọi tới server ngrok thay vì dùng phogpt\n",
    "        try:\n",
    "            response = requests.post(\n",
    "                f\"{NGROK_SERVER_URL}/ask\",  # Đường dẫn tới endpoint xử lý trên server ngrok\n",
    "                json={\n",
    "                    \"question\": question,\n",
    "                    \"context\": top_k_cross  # Gửi thông tin cần thiết\n",
    "                }\n",
    "            )\n",
    "            response_data = response.json()\n",
    "\n",
    "            # Kiểm tra phản hồi từ server\n",
    "            if response.status_code != 200 or \"answer\" not in response_data:\n",
    "                return jsonify({\"answer\": \"Error processing the request to the external server.\"})\n",
    "            \n",
    "            answer = response_data[\"answer\"]\n",
    "        except Exception as e:\n",
    "            print(f\"Error calling external server: {str(e)}\")\n",
    "            return jsonify({\"answer\": \"Error contacting external server.\"})\n",
    "\n",
    "        if not answer:\n",
    "            return jsonify({\"answer\": \"Sorry, I couldn't generate an appropriate response.\"})\n",
    "        return jsonify({\"answer\": answer})\n",
    "\n",
    "    except Exception as e:\n",
    "        # Log lỗi và trả về phản hồi JSON lỗi\n",
    "        print(f\"Error: {str(e)}\")\n",
    "        return jsonify({\"error\": f\"An error occurred: {str(e)}\"}), 500\n",
    "\n",
    "# Start the Flask server\n",
    "if __name__ == '__main__':\n",
    "    public_url = ngrok.connect(5000)  # Kết nối Flask server với ngrok\n",
    "    print(f\"Public URL: {public_url}\")\n",
    "    app.run(host='0.0.0.0', port=5000)\n"
   ]
  }
 ],
 "metadata": {
  "kaggle": {
   "accelerator": "gpu",
   "dataSources": [
    {
     "datasetId": 6420184,
     "sourceId": 10365783,
     "sourceType": "datasetVersion"
    },
    {
     "datasetId": 6423946,
     "sourceId": 10370958,
     "sourceType": "datasetVersion"
    },
    {
     "datasetId": 6425275,
     "sourceId": 10372744,
     "sourceType": "datasetVersion"
    },
    {
     "datasetId": 6425428,
     "sourceId": 10372960,
     "sourceType": "datasetVersion"
    },
    {
     "datasetId": 6470443,
     "sourceId": 10452671,
     "sourceType": "datasetVersion"
    },
    {
     "datasetId": 6471322,
     "sourceId": 10453928,
     "sourceType": "datasetVersion"
    },
    {
     "modelId": 208347,
     "modelInstanceId": 186229,
     "sourceId": 218375,
     "sourceType": "modelInstanceVersion"
    },
    {
     "isSourceIdPinned": true,
     "modelId": 209330,
     "modelInstanceId": 187251,
     "sourceId": 219562,
     "sourceType": "modelInstanceVersion"
    },
    {
     "isSourceIdPinned": true,
     "modelId": 215967,
     "modelInstanceId": 194051,
     "sourceId": 227609,
     "sourceType": "modelInstanceVersion"
    },
    {
     "isSourceIdPinned": true,
     "modelId": 215801,
     "modelInstanceId": 193885,
     "sourceId": 227611,
     "sourceType": "modelInstanceVersion"
    },
    {
     "isSourceIdPinned": true,
     "modelId": 216736,
     "modelInstanceId": 194835,
     "sourceId": 228485,
     "sourceType": "modelInstanceVersion"
    },
    {
     "isSourceIdPinned": true,
     "modelId": 216949,
     "modelInstanceId": 195053,
     "sourceId": 228738,
     "sourceType": "modelInstanceVersion"
    },
    {
     "isSourceIdPinned": true,
     "modelId": 217165,
     "modelInstanceId": 195272,
     "sourceId": 228994,
     "sourceType": "modelInstanceVersion"
    }
   ],
   "dockerImageVersionId": 30823,
   "isGpuEnabled": true,
   "isInternetEnabled": true,
   "language": "python",
   "sourceType": "notebook"
  },
  "kernelspec": {
   "display_name": "Python 3",
   "language": "python",
   "name": "python3"
  },
  "language_info": {
   "codemirror_mode": {
    "name": "ipython",
    "version": 3
   },
   "file_extension": ".py",
   "mimetype": "text/x-python",
   "name": "python",
   "nbconvert_exporter": "python",
   "pygments_lexer": "ipython3",
   "version": "3.10.12"
  }
 },
 "nbformat": 4,
 "nbformat_minor": 4
}
